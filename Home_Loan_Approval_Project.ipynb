{
 "cells": [
  {
   "cell_type": "code",
   "execution_count": 1,
   "id": "b952da60",
   "metadata": {},
   "outputs": [],
   "source": [
    "#Importing the necessary packages\n",
    "\n",
    "import pandas as pd\n",
    "import numpy as np\n",
    "import matplotlib.pyplot as plt\n",
    "%matplotlib inline\n",
    "import seaborn as sns\n",
    "import regex as re\n",
    "import math\n",
    "from tabulate import tabulate\n",
    "from sklearn import metrics\n",
    "\n",
    "from sklearn.model_selection import StratifiedKFold, cross_val_score\n",
    "from sklearn.model_selection import GridSearchCV\n",
    "from sklearn.model_selection import RandomizedSearchCV\n",
    "from sklearn.metrics import make_scorer, f1_score, recall_score, precision_score \n",
    "from sklearn.metrics import classification_report, confusion_matrix, accuracy_score\n",
    "\n",
    "from sklearn.feature_selection import mutual_info_classif"
   ]
  },
  {
   "cell_type": "code",
   "execution_count": 3,
   "id": "c385cc12",
   "metadata": {},
   "outputs": [],
   "source": [
    "import warnings\n",
    "warnings.simplefilter(action = 'ignore', category= FutureWarning)\n",
    "warnings.filterwarnings('ignore')"
   ]
  },
  {
   "cell_type": "code",
   "execution_count": 4,
   "id": "63244aa0",
   "metadata": {},
   "outputs": [
    {
     "name": "stdout",
     "output_type": "stream",
     "text": [
      "<class 'pandas.core.frame.DataFrame'>\n",
      "RangeIndex: 614 entries, 0 to 613\n",
      "Data columns (total 13 columns):\n",
      " #   Column             Non-Null Count  Dtype  \n",
      "---  ------             --------------  -----  \n",
      " 0   Loan_ID            614 non-null    object \n",
      " 1   Gender             601 non-null    object \n",
      " 2   Married            611 non-null    object \n",
      " 3   Dependents         599 non-null    object \n",
      " 4   Education          614 non-null    object \n",
      " 5   Self_Employed      582 non-null    object \n",
      " 6   ApplicantIncome    614 non-null    int64  \n",
      " 7   CoapplicantIncome  614 non-null    float64\n",
      " 8   LoanAmount         592 non-null    float64\n",
      " 9   Loan_Amount_Term   600 non-null    float64\n",
      " 10  Credit_History     564 non-null    float64\n",
      " 11  Property_Area      614 non-null    object \n",
      " 12  Loan_Status        614 non-null    object \n",
      "dtypes: float64(4), int64(1), object(8)\n",
      "memory usage: 62.5+ KB\n"
     ]
    },
    {
     "data": {
      "text/html": [
       "<div>\n",
       "<style scoped>\n",
       "    .dataframe tbody tr th:only-of-type {\n",
       "        vertical-align: middle;\n",
       "    }\n",
       "\n",
       "    .dataframe tbody tr th {\n",
       "        vertical-align: top;\n",
       "    }\n",
       "\n",
       "    .dataframe thead th {\n",
       "        text-align: right;\n",
       "    }\n",
       "</style>\n",
       "<table border=\"1\" class=\"dataframe\">\n",
       "  <thead>\n",
       "    <tr style=\"text-align: right;\">\n",
       "      <th></th>\n",
       "      <th>Loan_ID</th>\n",
       "      <th>Gender</th>\n",
       "      <th>Married</th>\n",
       "      <th>Dependents</th>\n",
       "      <th>Education</th>\n",
       "      <th>Self_Employed</th>\n",
       "      <th>ApplicantIncome</th>\n",
       "      <th>CoapplicantIncome</th>\n",
       "      <th>LoanAmount</th>\n",
       "      <th>Loan_Amount_Term</th>\n",
       "      <th>Credit_History</th>\n",
       "      <th>Property_Area</th>\n",
       "      <th>Loan_Status</th>\n",
       "    </tr>\n",
       "  </thead>\n",
       "  <tbody>\n",
       "    <tr>\n",
       "      <th>0</th>\n",
       "      <td>LP001002</td>\n",
       "      <td>Male</td>\n",
       "      <td>No</td>\n",
       "      <td>0</td>\n",
       "      <td>Graduate</td>\n",
       "      <td>No</td>\n",
       "      <td>5849</td>\n",
       "      <td>0.0</td>\n",
       "      <td>NaN</td>\n",
       "      <td>360.0</td>\n",
       "      <td>1.0</td>\n",
       "      <td>Urban</td>\n",
       "      <td>Y</td>\n",
       "    </tr>\n",
       "    <tr>\n",
       "      <th>1</th>\n",
       "      <td>LP001003</td>\n",
       "      <td>Male</td>\n",
       "      <td>Yes</td>\n",
       "      <td>1</td>\n",
       "      <td>Graduate</td>\n",
       "      <td>No</td>\n",
       "      <td>4583</td>\n",
       "      <td>1508.0</td>\n",
       "      <td>128.0</td>\n",
       "      <td>360.0</td>\n",
       "      <td>1.0</td>\n",
       "      <td>Rural</td>\n",
       "      <td>N</td>\n",
       "    </tr>\n",
       "    <tr>\n",
       "      <th>2</th>\n",
       "      <td>LP001005</td>\n",
       "      <td>Male</td>\n",
       "      <td>Yes</td>\n",
       "      <td>0</td>\n",
       "      <td>Graduate</td>\n",
       "      <td>Yes</td>\n",
       "      <td>3000</td>\n",
       "      <td>0.0</td>\n",
       "      <td>66.0</td>\n",
       "      <td>360.0</td>\n",
       "      <td>1.0</td>\n",
       "      <td>Urban</td>\n",
       "      <td>Y</td>\n",
       "    </tr>\n",
       "    <tr>\n",
       "      <th>3</th>\n",
       "      <td>LP001006</td>\n",
       "      <td>Male</td>\n",
       "      <td>Yes</td>\n",
       "      <td>0</td>\n",
       "      <td>Not Graduate</td>\n",
       "      <td>No</td>\n",
       "      <td>2583</td>\n",
       "      <td>2358.0</td>\n",
       "      <td>120.0</td>\n",
       "      <td>360.0</td>\n",
       "      <td>1.0</td>\n",
       "      <td>Urban</td>\n",
       "      <td>Y</td>\n",
       "    </tr>\n",
       "    <tr>\n",
       "      <th>4</th>\n",
       "      <td>LP001008</td>\n",
       "      <td>Male</td>\n",
       "      <td>No</td>\n",
       "      <td>0</td>\n",
       "      <td>Graduate</td>\n",
       "      <td>No</td>\n",
       "      <td>6000</td>\n",
       "      <td>0.0</td>\n",
       "      <td>141.0</td>\n",
       "      <td>360.0</td>\n",
       "      <td>1.0</td>\n",
       "      <td>Urban</td>\n",
       "      <td>Y</td>\n",
       "    </tr>\n",
       "  </tbody>\n",
       "</table>\n",
       "</div>"
      ],
      "text/plain": [
       "    Loan_ID Gender Married Dependents     Education Self_Employed  \\\n",
       "0  LP001002   Male      No          0      Graduate            No   \n",
       "1  LP001003   Male     Yes          1      Graduate            No   \n",
       "2  LP001005   Male     Yes          0      Graduate           Yes   \n",
       "3  LP001006   Male     Yes          0  Not Graduate            No   \n",
       "4  LP001008   Male      No          0      Graduate            No   \n",
       "\n",
       "   ApplicantIncome  CoapplicantIncome  LoanAmount  Loan_Amount_Term  \\\n",
       "0             5849                0.0         NaN             360.0   \n",
       "1             4583             1508.0       128.0             360.0   \n",
       "2             3000                0.0        66.0             360.0   \n",
       "3             2583             2358.0       120.0             360.0   \n",
       "4             6000                0.0       141.0             360.0   \n",
       "\n",
       "   Credit_History Property_Area Loan_Status  \n",
       "0             1.0         Urban           Y  \n",
       "1             1.0         Rural           N  \n",
       "2             1.0         Urban           Y  \n",
       "3             1.0         Urban           Y  \n",
       "4             1.0         Urban           Y  "
      ]
     },
     "execution_count": 4,
     "metadata": {},
     "output_type": "execute_result"
    }
   ],
   "source": [
    "#read the train csv dataset\n",
    "train_data = pd.read_csv(\"loan_sanction_train.csv\")\n",
    "train_data.info()\n",
    "train_data.columns\n",
    "train_data.head()"
   ]
  },
  {
   "cell_type": "code",
   "execution_count": 5,
   "id": "3be00546",
   "metadata": {},
   "outputs": [
    {
     "name": "stdout",
     "output_type": "stream",
     "text": [
      "<class 'pandas.core.frame.DataFrame'>\n",
      "RangeIndex: 367 entries, 0 to 366\n",
      "Data columns (total 12 columns):\n",
      " #   Column             Non-Null Count  Dtype  \n",
      "---  ------             --------------  -----  \n",
      " 0   Loan_ID            367 non-null    object \n",
      " 1   Gender             356 non-null    object \n",
      " 2   Married            367 non-null    object \n",
      " 3   Dependents         357 non-null    object \n",
      " 4   Education          367 non-null    object \n",
      " 5   Self_Employed      344 non-null    object \n",
      " 6   ApplicantIncome    367 non-null    int64  \n",
      " 7   CoapplicantIncome  367 non-null    int64  \n",
      " 8   LoanAmount         362 non-null    float64\n",
      " 9   Loan_Amount_Term   361 non-null    float64\n",
      " 10  Credit_History     338 non-null    float64\n",
      " 11  Property_Area      367 non-null    object \n",
      "dtypes: float64(3), int64(2), object(7)\n",
      "memory usage: 34.5+ KB\n"
     ]
    },
    {
     "data": {
      "text/html": [
       "<div>\n",
       "<style scoped>\n",
       "    .dataframe tbody tr th:only-of-type {\n",
       "        vertical-align: middle;\n",
       "    }\n",
       "\n",
       "    .dataframe tbody tr th {\n",
       "        vertical-align: top;\n",
       "    }\n",
       "\n",
       "    .dataframe thead th {\n",
       "        text-align: right;\n",
       "    }\n",
       "</style>\n",
       "<table border=\"1\" class=\"dataframe\">\n",
       "  <thead>\n",
       "    <tr style=\"text-align: right;\">\n",
       "      <th></th>\n",
       "      <th>Loan_ID</th>\n",
       "      <th>Gender</th>\n",
       "      <th>Married</th>\n",
       "      <th>Dependents</th>\n",
       "      <th>Education</th>\n",
       "      <th>Self_Employed</th>\n",
       "      <th>ApplicantIncome</th>\n",
       "      <th>CoapplicantIncome</th>\n",
       "      <th>LoanAmount</th>\n",
       "      <th>Loan_Amount_Term</th>\n",
       "      <th>Credit_History</th>\n",
       "      <th>Property_Area</th>\n",
       "    </tr>\n",
       "  </thead>\n",
       "  <tbody>\n",
       "    <tr>\n",
       "      <th>0</th>\n",
       "      <td>LP001015</td>\n",
       "      <td>Male</td>\n",
       "      <td>Yes</td>\n",
       "      <td>0</td>\n",
       "      <td>Graduate</td>\n",
       "      <td>No</td>\n",
       "      <td>5720</td>\n",
       "      <td>0</td>\n",
       "      <td>110.0</td>\n",
       "      <td>360.0</td>\n",
       "      <td>1.0</td>\n",
       "      <td>Urban</td>\n",
       "    </tr>\n",
       "    <tr>\n",
       "      <th>1</th>\n",
       "      <td>LP001022</td>\n",
       "      <td>Male</td>\n",
       "      <td>Yes</td>\n",
       "      <td>1</td>\n",
       "      <td>Graduate</td>\n",
       "      <td>No</td>\n",
       "      <td>3076</td>\n",
       "      <td>1500</td>\n",
       "      <td>126.0</td>\n",
       "      <td>360.0</td>\n",
       "      <td>1.0</td>\n",
       "      <td>Urban</td>\n",
       "    </tr>\n",
       "    <tr>\n",
       "      <th>2</th>\n",
       "      <td>LP001031</td>\n",
       "      <td>Male</td>\n",
       "      <td>Yes</td>\n",
       "      <td>2</td>\n",
       "      <td>Graduate</td>\n",
       "      <td>No</td>\n",
       "      <td>5000</td>\n",
       "      <td>1800</td>\n",
       "      <td>208.0</td>\n",
       "      <td>360.0</td>\n",
       "      <td>1.0</td>\n",
       "      <td>Urban</td>\n",
       "    </tr>\n",
       "    <tr>\n",
       "      <th>3</th>\n",
       "      <td>LP001035</td>\n",
       "      <td>Male</td>\n",
       "      <td>Yes</td>\n",
       "      <td>2</td>\n",
       "      <td>Graduate</td>\n",
       "      <td>No</td>\n",
       "      <td>2340</td>\n",
       "      <td>2546</td>\n",
       "      <td>100.0</td>\n",
       "      <td>360.0</td>\n",
       "      <td>NaN</td>\n",
       "      <td>Urban</td>\n",
       "    </tr>\n",
       "    <tr>\n",
       "      <th>4</th>\n",
       "      <td>LP001051</td>\n",
       "      <td>Male</td>\n",
       "      <td>No</td>\n",
       "      <td>0</td>\n",
       "      <td>Not Graduate</td>\n",
       "      <td>No</td>\n",
       "      <td>3276</td>\n",
       "      <td>0</td>\n",
       "      <td>78.0</td>\n",
       "      <td>360.0</td>\n",
       "      <td>1.0</td>\n",
       "      <td>Urban</td>\n",
       "    </tr>\n",
       "  </tbody>\n",
       "</table>\n",
       "</div>"
      ],
      "text/plain": [
       "    Loan_ID Gender Married Dependents     Education Self_Employed  \\\n",
       "0  LP001015   Male     Yes          0      Graduate            No   \n",
       "1  LP001022   Male     Yes          1      Graduate            No   \n",
       "2  LP001031   Male     Yes          2      Graduate            No   \n",
       "3  LP001035   Male     Yes          2      Graduate            No   \n",
       "4  LP001051   Male      No          0  Not Graduate            No   \n",
       "\n",
       "   ApplicantIncome  CoapplicantIncome  LoanAmount  Loan_Amount_Term  \\\n",
       "0             5720                  0       110.0             360.0   \n",
       "1             3076               1500       126.0             360.0   \n",
       "2             5000               1800       208.0             360.0   \n",
       "3             2340               2546       100.0             360.0   \n",
       "4             3276                  0        78.0             360.0   \n",
       "\n",
       "   Credit_History Property_Area  \n",
       "0             1.0         Urban  \n",
       "1             1.0         Urban  \n",
       "2             1.0         Urban  \n",
       "3             NaN         Urban  \n",
       "4             1.0         Urban  "
      ]
     },
     "execution_count": 5,
     "metadata": {},
     "output_type": "execute_result"
    }
   ],
   "source": [
    "#read the test csv dataset\n",
    "test_data = pd.read_csv(\"loan_sanction_test.csv\")\n",
    "test_data.info()\n",
    "test_data.columns\n",
    "test_data.head()"
   ]
  },
  {
   "cell_type": "code",
   "execution_count": 6,
   "id": "8b6ae709",
   "metadata": {},
   "outputs": [
    {
     "data": {
      "text/plain": [
       "((614, 13), (367, 12))"
      ]
     },
     "execution_count": 6,
     "metadata": {},
     "output_type": "execute_result"
    }
   ],
   "source": [
    "# checking the dimension of the data set\n",
    "train_data.shape,test_data.shape"
   ]
  },
  {
   "cell_type": "code",
   "execution_count": 7,
   "id": "6bac40b6",
   "metadata": {},
   "outputs": [
    {
     "name": "stdout",
     "output_type": "stream",
     "text": [
      "Number of duplicate rows in train data ::  (0, 13)\n",
      "Number of duplicate rows in test data ::  (0, 12)\n"
     ]
    }
   ],
   "source": [
    "#checking duplicate values if present in the data\n",
    "duplicate_rowstr = train_data[train_data.duplicated()]\n",
    "print(\"Number of duplicate rows in train data :: \", duplicate_rowstr.shape)\n",
    "duplicate_rowste = test_data[test_data.duplicated()]\n",
    "print(\"Number of duplicate rows in test data :: \", duplicate_rowste.shape)"
   ]
  },
  {
   "cell_type": "code",
   "execution_count": 8,
   "id": "b1ccbbec",
   "metadata": {},
   "outputs": [
    {
     "name": "stdout",
     "output_type": "stream",
     "text": [
      "<class 'pandas.core.frame.DataFrame'>\n",
      "RangeIndex: 614 entries, 0 to 613\n",
      "Data columns (total 12 columns):\n",
      " #   Column             Non-Null Count  Dtype  \n",
      "---  ------             --------------  -----  \n",
      " 0   Gender             601 non-null    object \n",
      " 1   Married            611 non-null    object \n",
      " 2   Dependents         599 non-null    object \n",
      " 3   Education          614 non-null    object \n",
      " 4   Self_Employed      582 non-null    object \n",
      " 5   ApplicantIncome    614 non-null    int64  \n",
      " 6   CoapplicantIncome  614 non-null    float64\n",
      " 7   LoanAmount         592 non-null    float64\n",
      " 8   Loan_Amount_Term   600 non-null    float64\n",
      " 9   Credit_History     564 non-null    float64\n",
      " 10  Property_Area      614 non-null    object \n",
      " 11  Loan_Status        614 non-null    object \n",
      "dtypes: float64(4), int64(1), object(7)\n",
      "memory usage: 57.7+ KB\n",
      "<class 'pandas.core.frame.DataFrame'>\n",
      "RangeIndex: 367 entries, 0 to 366\n",
      "Data columns (total 11 columns):\n",
      " #   Column             Non-Null Count  Dtype  \n",
      "---  ------             --------------  -----  \n",
      " 0   Gender             356 non-null    object \n",
      " 1   Married            367 non-null    object \n",
      " 2   Dependents         357 non-null    object \n",
      " 3   Education          367 non-null    object \n",
      " 4   Self_Employed      344 non-null    object \n",
      " 5   ApplicantIncome    367 non-null    int64  \n",
      " 6   CoapplicantIncome  367 non-null    int64  \n",
      " 7   LoanAmount         362 non-null    float64\n",
      " 8   Loan_Amount_Term   361 non-null    float64\n",
      " 9   Credit_History     338 non-null    float64\n",
      " 10  Property_Area      367 non-null    object \n",
      "dtypes: float64(3), int64(2), object(6)\n",
      "memory usage: 31.7+ KB\n"
     ]
    }
   ],
   "source": [
    "# remove unimportant features from the data\n",
    "train_data.drop(['Loan_ID'],axis=1,inplace=True)\n",
    "train_data.info()\n",
    "test_data.drop(['Loan_ID'],axis=1,inplace=True)\n",
    "test_data.info()"
   ]
  },
  {
   "cell_type": "code",
   "execution_count": 9,
   "id": "62b539ff",
   "metadata": {},
   "outputs": [
    {
     "data": {
      "text/html": [
       "<div>\n",
       "<style scoped>\n",
       "    .dataframe tbody tr th:only-of-type {\n",
       "        vertical-align: middle;\n",
       "    }\n",
       "\n",
       "    .dataframe tbody tr th {\n",
       "        vertical-align: top;\n",
       "    }\n",
       "\n",
       "    .dataframe thead th {\n",
       "        text-align: right;\n",
       "    }\n",
       "</style>\n",
       "<table border=\"1\" class=\"dataframe\">\n",
       "  <thead>\n",
       "    <tr style=\"text-align: right;\">\n",
       "      <th></th>\n",
       "      <th>ApplicantIncome</th>\n",
       "      <th>CoapplicantIncome</th>\n",
       "      <th>LoanAmount</th>\n",
       "      <th>Loan_Amount_Term</th>\n",
       "      <th>Credit_History</th>\n",
       "    </tr>\n",
       "  </thead>\n",
       "  <tbody>\n",
       "    <tr>\n",
       "      <th>count</th>\n",
       "      <td>614.000000</td>\n",
       "      <td>614.000000</td>\n",
       "      <td>592.000000</td>\n",
       "      <td>600.00000</td>\n",
       "      <td>564.000000</td>\n",
       "    </tr>\n",
       "    <tr>\n",
       "      <th>mean</th>\n",
       "      <td>5403.459283</td>\n",
       "      <td>1621.245798</td>\n",
       "      <td>146.412162</td>\n",
       "      <td>342.00000</td>\n",
       "      <td>0.842199</td>\n",
       "    </tr>\n",
       "    <tr>\n",
       "      <th>std</th>\n",
       "      <td>6109.041673</td>\n",
       "      <td>2926.248369</td>\n",
       "      <td>85.587325</td>\n",
       "      <td>65.12041</td>\n",
       "      <td>0.364878</td>\n",
       "    </tr>\n",
       "    <tr>\n",
       "      <th>min</th>\n",
       "      <td>150.000000</td>\n",
       "      <td>0.000000</td>\n",
       "      <td>9.000000</td>\n",
       "      <td>12.00000</td>\n",
       "      <td>0.000000</td>\n",
       "    </tr>\n",
       "    <tr>\n",
       "      <th>25%</th>\n",
       "      <td>2877.500000</td>\n",
       "      <td>0.000000</td>\n",
       "      <td>100.000000</td>\n",
       "      <td>360.00000</td>\n",
       "      <td>1.000000</td>\n",
       "    </tr>\n",
       "    <tr>\n",
       "      <th>50%</th>\n",
       "      <td>3812.500000</td>\n",
       "      <td>1188.500000</td>\n",
       "      <td>128.000000</td>\n",
       "      <td>360.00000</td>\n",
       "      <td>1.000000</td>\n",
       "    </tr>\n",
       "    <tr>\n",
       "      <th>75%</th>\n",
       "      <td>5795.000000</td>\n",
       "      <td>2297.250000</td>\n",
       "      <td>168.000000</td>\n",
       "      <td>360.00000</td>\n",
       "      <td>1.000000</td>\n",
       "    </tr>\n",
       "    <tr>\n",
       "      <th>max</th>\n",
       "      <td>81000.000000</td>\n",
       "      <td>41667.000000</td>\n",
       "      <td>700.000000</td>\n",
       "      <td>480.00000</td>\n",
       "      <td>1.000000</td>\n",
       "    </tr>\n",
       "  </tbody>\n",
       "</table>\n",
       "</div>"
      ],
      "text/plain": [
       "       ApplicantIncome  CoapplicantIncome  LoanAmount  Loan_Amount_Term  \\\n",
       "count       614.000000         614.000000  592.000000         600.00000   \n",
       "mean       5403.459283        1621.245798  146.412162         342.00000   \n",
       "std        6109.041673        2926.248369   85.587325          65.12041   \n",
       "min         150.000000           0.000000    9.000000          12.00000   \n",
       "25%        2877.500000           0.000000  100.000000         360.00000   \n",
       "50%        3812.500000        1188.500000  128.000000         360.00000   \n",
       "75%        5795.000000        2297.250000  168.000000         360.00000   \n",
       "max       81000.000000       41667.000000  700.000000         480.00000   \n",
       "\n",
       "       Credit_History  \n",
       "count      564.000000  \n",
       "mean         0.842199  \n",
       "std          0.364878  \n",
       "min          0.000000  \n",
       "25%          1.000000  \n",
       "50%          1.000000  \n",
       "75%          1.000000  \n",
       "max          1.000000  "
      ]
     },
     "execution_count": 9,
     "metadata": {},
     "output_type": "execute_result"
    }
   ],
   "source": [
    "train_data.describe()"
   ]
  },
  {
   "cell_type": "code",
   "execution_count": 10,
   "id": "ae2aad46",
   "metadata": {},
   "outputs": [
    {
     "data": {
      "text/plain": [
       "Text(0.5, 0, 'LoanAmount')"
      ]
     },
     "execution_count": 10,
     "metadata": {},
     "output_type": "execute_result"
    },
    {
     "data": {
      "image/png": "[encoded data removed]",
      "text/plain": [
       "<Figure size 640x480 with 1 Axes>"
      ]
     },
     "metadata": {},
     "output_type": "display_data"
    }
   ],
   "source": [
    "# Ploting boxplot for the features having null value to check its distribution\n",
    "sns.boxplot(train_data.LoanAmount)\n",
    "plt.xlabel('LoanAmount')"
   ]
  },
  {
   "cell_type": "code",
   "execution_count": 11,
   "id": "46443fc3",
   "metadata": {},
   "outputs": [
    {
     "data": {
      "text/plain": [
       "Text(0.5, 0, 'ApplicantIncome')"
      ]
     },
     "execution_count": 11,
     "metadata": {},
     "output_type": "execute_result"
    },
    {
     "data": {
      "image/png": "[encoded data removed]",
      "text/plain": [
       "<Figure size 640x480 with 1 Axes>"
      ]
     },
     "metadata": {},
     "output_type": "display_data"
    }
   ],
   "source": [
    "sns.histplot(train_data.ApplicantIncome)\n",
    "plt.xlabel('ApplicantIncome')"
   ]
  },
  {
   "cell_type": "code",
   "execution_count": 12,
   "id": "adaf27b5",
   "metadata": {},
   "outputs": [
    {
     "data": {
      "text/plain": [
       "Text(0.5, 0, 'Loan_Amount_Term')"
      ]
     },
     "execution_count": 12,
     "metadata": {},
     "output_type": "execute_result"
    },
    {
     "data": {
      "image/png": "[encoded data removed]",
      "text/plain": [
       "<Figure size 640x480 with 1 Axes>"
      ]
     },
     "metadata": {},
     "output_type": "display_data"
    }
   ],
   "source": [
    "sns.histplot(test_data.Loan_Amount_Term)\n",
    "plt.xlabel('Loan_Amount_Term')"
   ]
  },
  {
   "cell_type": "code",
   "execution_count": 13,
   "id": "22bf59af",
   "metadata": {},
   "outputs": [
    {
     "data": {
      "text/plain": [
       "Text(0.5, 0, 'CoapplicantIncome')"
      ]
     },
     "execution_count": 13,
     "metadata": {},
     "output_type": "execute_result"
    },
    {
     "data": {
      "image/png": "[encoded data removed]",
      "text/plain": [
       "<Figure size 640x480 with 1 Axes>"
      ]
     },
     "metadata": {},
     "output_type": "display_data"
    }
   ],
   "source": [
    "sns.histplot(test_data.CoapplicantIncome)\n",
    "plt.xlabel('CoapplicantIncome')"
   ]
  },
  {
   "cell_type": "code",
   "execution_count": 14,
   "id": "0f420e15",
   "metadata": {},
   "outputs": [
    {
     "data": {
      "text/plain": [
       "Gender               2.12\n",
       "Married              0.49\n",
       "Dependents           2.44\n",
       "Education            0.00\n",
       "Self_Employed        5.21\n",
       "ApplicantIncome      0.00\n",
       "CoapplicantIncome    0.00\n",
       "LoanAmount           3.58\n",
       "Loan_Amount_Term     2.28\n",
       "Credit_History       8.14\n",
       "Property_Area        0.00\n",
       "Loan_Status          0.00\n",
       "dtype: float64"
      ]
     },
     "execution_count": 14,
     "metadata": {},
     "output_type": "execute_result"
    }
   ],
   "source": [
    "round((train_data.isna().sum()*100/614),2)"
   ]
  },
  {
   "cell_type": "code",
   "execution_count": 15,
   "id": "57271a33",
   "metadata": {},
   "outputs": [
    {
     "data": {
      "text/plain": [
       "Gender               3.00\n",
       "Married              0.00\n",
       "Dependents           2.72\n",
       "Education            0.00\n",
       "Self_Employed        6.27\n",
       "ApplicantIncome      0.00\n",
       "CoapplicantIncome    0.00\n",
       "LoanAmount           1.36\n",
       "Loan_Amount_Term     1.63\n",
       "Credit_History       7.90\n",
       "Property_Area        0.00\n",
       "dtype: float64"
      ]
     },
     "execution_count": 15,
     "metadata": {},
     "output_type": "execute_result"
    }
   ],
   "source": [
    "round((test_data.isna().sum()*100/367),2)"
   ]
  },
  {
   "cell_type": "code",
   "execution_count": 16,
   "id": "34f905ee",
   "metadata": {},
   "outputs": [],
   "source": [
    "# Replacing the null values of the quantitative variable with column median\n",
    "train_data['LoanAmount'].fillna(train_data['LoanAmount'].median(),inplace=True)\n",
    "train_data['Loan_Amount_Term'].fillna(train_data['Loan_Amount_Term'].mode()[0],inplace=True)\n",
    "\n",
    "test_data['LoanAmount'].fillna(train_data['LoanAmount'].median(),inplace=True)\n",
    "test_data['Loan_Amount_Term'].fillna(test_data['Loan_Amount_Term'].mode()[0],inplace=True)"
   ]
  },
  {
   "cell_type": "code",
   "execution_count": 17,
   "id": "8afff742",
   "metadata": {},
   "outputs": [
    {
     "data": {
      "text/plain": [
       "Gender               13\n",
       "Married               3\n",
       "Dependents           15\n",
       "Education             0\n",
       "Self_Employed        32\n",
       "ApplicantIncome       0\n",
       "CoapplicantIncome     0\n",
       "LoanAmount            0\n",
       "Loan_Amount_Term      0\n",
       "Credit_History       50\n",
       "Property_Area         0\n",
       "Loan_Status           0\n",
       "dtype: int64"
      ]
     },
     "execution_count": 17,
     "metadata": {},
     "output_type": "execute_result"
    }
   ],
   "source": [
    "train_data.isna().sum()"
   ]
  },
  {
   "cell_type": "code",
   "execution_count": 18,
   "id": "0c20cdc6",
   "metadata": {},
   "outputs": [
    {
     "data": {
      "text/plain": [
       "Gender               11\n",
       "Married               0\n",
       "Dependents           10\n",
       "Education             0\n",
       "Self_Employed        23\n",
       "ApplicantIncome       0\n",
       "CoapplicantIncome     0\n",
       "LoanAmount            0\n",
       "Loan_Amount_Term      0\n",
       "Credit_History       29\n",
       "Property_Area         0\n",
       "dtype: int64"
      ]
     },
     "execution_count": 18,
     "metadata": {},
     "output_type": "execute_result"
    }
   ],
   "source": [
    "test_data.isna().sum()"
   ]
  },
  {
   "cell_type": "code",
   "execution_count": 19,
   "id": "858d8e91",
   "metadata": {},
   "outputs": [
    {
     "data": {
      "text/plain": [
       "['Gender',\n",
       " 'Married',\n",
       " 'Dependents',\n",
       " 'Education',\n",
       " 'Self_Employed',\n",
       " 'Property_Area',\n",
       " 'Loan_Status']"
      ]
     },
     "execution_count": 19,
     "metadata": {},
     "output_type": "execute_result"
    }
   ],
   "source": [
    "cat_columns=[x for x in train_data.dtypes.index if train_data.dtypes[x]=='object']\n",
    "cat_columns"
   ]
  },
  {
   "cell_type": "code",
   "execution_count": 20,
   "id": "1ff4f8d2",
   "metadata": {},
   "outputs": [
    {
     "name": "stdout",
     "output_type": "stream",
     "text": [
      "frequency of categories for variable\n",
      "Male      489\n",
      "Female    112\n",
      "Name: Gender, dtype: int64\n",
      "frequency of categories for variable\n",
      "Yes    398\n",
      "No     213\n",
      "Name: Married, dtype: int64\n",
      "frequency of categories for variable\n",
      "0     345\n",
      "1     102\n",
      "2     101\n",
      "3+     51\n",
      "Name: Dependents, dtype: int64\n",
      "frequency of categories for variable\n",
      "Graduate        480\n",
      "Not Graduate    134\n",
      "Name: Education, dtype: int64\n",
      "frequency of categories for variable\n",
      "No     500\n",
      "Yes     82\n",
      "Name: Self_Employed, dtype: int64\n",
      "frequency of categories for variable\n",
      "Semiurban    233\n",
      "Urban        202\n",
      "Rural        179\n",
      "Name: Property_Area, dtype: int64\n",
      "frequency of categories for variable\n",
      "Y    422\n",
      "N    192\n",
      "Name: Loan_Status, dtype: int64\n"
     ]
    }
   ],
   "source": [
    "# frequencies of the categories\n",
    "for col in cat_columns:\n",
    "    print('frequency of categories for variable')\n",
    "    print(train_data[col].value_counts())"
   ]
  },
  {
   "cell_type": "code",
   "execution_count": 21,
   "id": "cac5ab1a",
   "metadata": {},
   "outputs": [
    {
     "data": {
      "image/png": "[encoded data removed]",
      "text/plain": [
       "<Figure size 700x700 with 1 Axes>"
      ]
     },
     "metadata": {},
     "output_type": "display_data"
    },
    {
     "data": {
      "image/png": "[encoded data removed]",
      "text/plain": [
       "<Figure size 640x480 with 1 Axes>"
      ]
     },
     "metadata": {},
     "output_type": "display_data"
    },
    {
     "data": {
      "image/png": "[encoded data removed]",
      "text/plain": [
       "<Figure size 640x480 with 1 Axes>"
      ]
     },
     "metadata": {},
     "output_type": "display_data"
    },
    {
     "data": {
      "image/png": "[encoded data removed]",
      "text/plain": [
       "<Figure size 640x480 with 1 Axes>"
      ]
     },
     "metadata": {},
     "output_type": "display_data"
    },
    {
     "data": {
      "image/png": "[encoded data removed]",
      "text/plain": [
       "<Figure size 640x480 with 1 Axes>"
      ]
     },
     "metadata": {},
     "output_type": "display_data"
    },
    {
     "data": {
      "image/png": "[encoded data removed]",
      "text/plain": [
       "<Figure size 640x480 with 1 Axes>"
      ]
     },
     "metadata": {},
     "output_type": "display_data"
    },
    {
     "data": {
      "image/png": "[encoded data removed]",
      "text/plain": [
       "<Figure size 640x480 with 1 Axes>"
      ]
     },
     "metadata": {},
     "output_type": "display_data"
    }
   ],
   "source": [
    "plt.figure(figsize=(7,7))\n",
    "for i, col in enumerate(cat_columns):\n",
    "    plt.subplot(4,2,i+1)\n",
    "    sns.countplot(train_data,x=col)\n",
    "    plt.show()"
   ]
  },
  {
   "cell_type": "code",
   "execution_count": 22,
   "id": "a3c0ba42",
   "metadata": {},
   "outputs": [
    {
     "data": {
      "text/plain": [
       "<Axes: xlabel='Loan_Status', ylabel='count'>"
      ]
     },
     "execution_count": 22,
     "metadata": {},
     "output_type": "execute_result"
    },
    {
     "data": {
      "image/png": "[encoded data removed]",
      "text/plain": [
       "<Figure size 640x480 with 1 Axes>"
      ]
     },
     "metadata": {},
     "output_type": "display_data"
    }
   ],
   "source": [
    "sns.countplot(train_data,x='Loan_Status', hue='Gender')"
   ]
  },
  {
   "cell_type": "code",
   "execution_count": 23,
   "id": "080d75c0",
   "metadata": {},
   "outputs": [
    {
     "data": {
      "text/plain": [
       "<Axes: xlabel='Loan_Status', ylabel='count'>"
      ]
     },
     "execution_count": 23,
     "metadata": {},
     "output_type": "execute_result"
    },
    {
     "data": {
      "image/png": "[encoded data removed]",
      "text/plain": [
       "<Figure size 640x480 with 1 Axes>"
      ]
     },
     "metadata": {},
     "output_type": "display_data"
    }
   ],
   "source": [
    "sns.countplot(train_data,x='Loan_Status', hue='Married')"
   ]
  },
  {
   "cell_type": "code",
   "execution_count": 24,
   "id": "1a8611c4",
   "metadata": {},
   "outputs": [
    {
     "data": {
      "text/plain": [
       "<Axes: xlabel='Loan_Status', ylabel='count'>"
      ]
     },
     "execution_count": 24,
     "metadata": {},
     "output_type": "execute_result"
    },
    {
     "data": {
      "image/png": "[encoded data removed]",
      "text/plain": [
       "<Figure size 640x480 with 1 Axes>"
      ]
     },
     "metadata": {},
     "output_type": "display_data"
    }
   ],
   "source": [
    "sns.countplot(train_data,x='Loan_Status', hue='Dependents')"
   ]
  },
  {
   "cell_type": "code",
   "execution_count": 25,
   "id": "64b8bcd0",
   "metadata": {},
   "outputs": [
    {
     "data": {
      "text/plain": [
       "<Axes: xlabel='Loan_Status', ylabel='count'>"
      ]
     },
     "execution_count": 25,
     "metadata": {},
     "output_type": "execute_result"
    },
    {
     "data": {
      "image/png": "[encoded data removed]",
      "text/plain": [
       "<Figure size 640x480 with 1 Axes>"
      ]
     },
     "metadata": {},
     "output_type": "display_data"
    }
   ],
   "source": [
    "sns.countplot(train_data,x='Loan_Status', hue='Education')"
   ]
  },
  {
   "cell_type": "code",
   "execution_count": 26,
   "id": "6a0f31df",
   "metadata": {},
   "outputs": [
    {
     "data": {
      "text/plain": [
       "<Axes: xlabel='Loan_Status', ylabel='count'>"
      ]
     },
     "execution_count": 26,
     "metadata": {},
     "output_type": "execute_result"
    },
    {
     "data": {
      "image/png": "[encoded data removed]",
      "text/plain": [
       "<Figure size 640x480 with 1 Axes>"
      ]
     },
     "metadata": {},
     "output_type": "display_data"
    }
   ],
   "source": [
    "sns.countplot(train_data,x='Loan_Status', hue='Self_Employed')"
   ]
  },
  {
   "cell_type": "code",
   "execution_count": 27,
   "id": "ca2133c2",
   "metadata": {},
   "outputs": [
    {
     "data": {
      "text/plain": [
       "<Axes: xlabel='Loan_Status', ylabel='count'>"
      ]
     },
     "execution_count": 27,
     "metadata": {},
     "output_type": "execute_result"
    },
    {
     "data": {
      "image/png": "[encoded data removed]",
      "text/plain": [
       "<Figure size 640x480 with 1 Axes>"
      ]
     },
     "metadata": {},
     "output_type": "display_data"
    }
   ],
   "source": [
    "sns.countplot(train_data,x='Loan_Status', hue='Property_Area')"
   ]
  },
  {
   "cell_type": "code",
   "execution_count": 28,
   "id": "3b675c64",
   "metadata": {},
   "outputs": [],
   "source": [
    "# replacing null values of the catagorical variables with mode values \n",
    "train_data['Gender'].fillna(train_data['Gender'].mode()[0],inplace=True)\n",
    "train_data['Married'].fillna(train_data['Married'].mode()[0],inplace=True)\n",
    "train_data['Dependents'].fillna(train_data['Dependents'].mode()[0],inplace=True)\n",
    "train_data['Self_Employed'].fillna(train_data['Self_Employed'].mode()[0],inplace=True)\n",
    "train_data['Credit_History'].fillna(train_data['Credit_History'].mode()[0],inplace=True)\n",
    "\n",
    "test_data['Gender'].fillna(train_data['Gender'].mode()[0],inplace=True)\n",
    "test_data['Married'].fillna(train_data['Married'].mode()[0],inplace=True)\n",
    "test_data['Dependents'].fillna(train_data['Dependents'].mode()[0],inplace=True)\n",
    "test_data['Self_Employed'].fillna(train_data['Self_Employed'].mode()[0],inplace=True)\n",
    "test_data['Credit_History'].fillna(train_data['Credit_History'].mode()[0],inplace=True)"
   ]
  },
  {
   "cell_type": "code",
   "execution_count": 29,
   "id": "18effab0",
   "metadata": {},
   "outputs": [
    {
     "data": {
      "text/plain": [
       "Gender               0\n",
       "Married              0\n",
       "Dependents           0\n",
       "Education            0\n",
       "Self_Employed        0\n",
       "ApplicantIncome      0\n",
       "CoapplicantIncome    0\n",
       "LoanAmount           0\n",
       "Loan_Amount_Term     0\n",
       "Credit_History       0\n",
       "Property_Area        0\n",
       "Loan_Status          0\n",
       "dtype: int64"
      ]
     },
     "execution_count": 29,
     "metadata": {},
     "output_type": "execute_result"
    }
   ],
   "source": [
    "train_data.isna().sum()"
   ]
  },
  {
   "cell_type": "code",
   "execution_count": 30,
   "id": "1aeab9a2",
   "metadata": {},
   "outputs": [
    {
     "data": {
      "text/plain": [
       "Gender               0\n",
       "Married              0\n",
       "Dependents           0\n",
       "Education            0\n",
       "Self_Employed        0\n",
       "ApplicantIncome      0\n",
       "CoapplicantIncome    0\n",
       "LoanAmount           0\n",
       "Loan_Amount_Term     0\n",
       "Credit_History       0\n",
       "Property_Area        0\n",
       "dtype: int64"
      ]
     },
     "execution_count": 30,
     "metadata": {},
     "output_type": "execute_result"
    }
   ],
   "source": [
    "test_data.isna().sum()"
   ]
  },
  {
   "cell_type": "code",
   "execution_count": 31,
   "id": "4cd77245",
   "metadata": {},
   "outputs": [
    {
     "data": {
      "text/html": [
       "<div>\n",
       "<style scoped>\n",
       "    .dataframe tbody tr th:only-of-type {\n",
       "        vertical-align: middle;\n",
       "    }\n",
       "\n",
       "    .dataframe tbody tr th {\n",
       "        vertical-align: top;\n",
       "    }\n",
       "\n",
       "    .dataframe thead th {\n",
       "        text-align: right;\n",
       "    }\n",
       "</style>\n",
       "<table border=\"1\" class=\"dataframe\">\n",
       "  <thead>\n",
       "    <tr style=\"text-align: right;\">\n",
       "      <th></th>\n",
       "      <th>Gender</th>\n",
       "      <th>Married</th>\n",
       "      <th>Dependents</th>\n",
       "      <th>Education</th>\n",
       "      <th>Self_Employed</th>\n",
       "      <th>Property_Area</th>\n",
       "      <th>Loan_Status</th>\n",
       "      <th>ApplicantIncome</th>\n",
       "      <th>CoapplicantIncome</th>\n",
       "      <th>LoanAmount</th>\n",
       "      <th>Loan_Amount_Term</th>\n",
       "      <th>Credit_History</th>\n",
       "    </tr>\n",
       "  </thead>\n",
       "  <tbody>\n",
       "    <tr>\n",
       "      <th>0</th>\n",
       "      <td>1</td>\n",
       "      <td>0</td>\n",
       "      <td>0</td>\n",
       "      <td>0</td>\n",
       "      <td>0</td>\n",
       "      <td>2</td>\n",
       "      <td>1</td>\n",
       "      <td>5849</td>\n",
       "      <td>0.0</td>\n",
       "      <td>128.0</td>\n",
       "      <td>360.0</td>\n",
       "      <td>1.0</td>\n",
       "    </tr>\n",
       "    <tr>\n",
       "      <th>1</th>\n",
       "      <td>1</td>\n",
       "      <td>1</td>\n",
       "      <td>1</td>\n",
       "      <td>0</td>\n",
       "      <td>0</td>\n",
       "      <td>0</td>\n",
       "      <td>0</td>\n",
       "      <td>4583</td>\n",
       "      <td>1508.0</td>\n",
       "      <td>128.0</td>\n",
       "      <td>360.0</td>\n",
       "      <td>1.0</td>\n",
       "    </tr>\n",
       "    <tr>\n",
       "      <th>2</th>\n",
       "      <td>1</td>\n",
       "      <td>1</td>\n",
       "      <td>0</td>\n",
       "      <td>0</td>\n",
       "      <td>1</td>\n",
       "      <td>2</td>\n",
       "      <td>1</td>\n",
       "      <td>3000</td>\n",
       "      <td>0.0</td>\n",
       "      <td>66.0</td>\n",
       "      <td>360.0</td>\n",
       "      <td>1.0</td>\n",
       "    </tr>\n",
       "    <tr>\n",
       "      <th>3</th>\n",
       "      <td>1</td>\n",
       "      <td>1</td>\n",
       "      <td>0</td>\n",
       "      <td>1</td>\n",
       "      <td>0</td>\n",
       "      <td>2</td>\n",
       "      <td>1</td>\n",
       "      <td>2583</td>\n",
       "      <td>2358.0</td>\n",
       "      <td>120.0</td>\n",
       "      <td>360.0</td>\n",
       "      <td>1.0</td>\n",
       "    </tr>\n",
       "    <tr>\n",
       "      <th>4</th>\n",
       "      <td>1</td>\n",
       "      <td>0</td>\n",
       "      <td>0</td>\n",
       "      <td>0</td>\n",
       "      <td>0</td>\n",
       "      <td>2</td>\n",
       "      <td>1</td>\n",
       "      <td>6000</td>\n",
       "      <td>0.0</td>\n",
       "      <td>141.0</td>\n",
       "      <td>360.0</td>\n",
       "      <td>1.0</td>\n",
       "    </tr>\n",
       "  </tbody>\n",
       "</table>\n",
       "</div>"
      ],
      "text/plain": [
       "   Gender  Married  Dependents  Education  Self_Employed  Property_Area  \\\n",
       "0       1        0           0          0              0              2   \n",
       "1       1        1           1          0              0              0   \n",
       "2       1        1           0          0              1              2   \n",
       "3       1        1           0          1              0              2   \n",
       "4       1        0           0          0              0              2   \n",
       "\n",
       "   Loan_Status  ApplicantIncome  CoapplicantIncome  LoanAmount  \\\n",
       "0            1             5849                0.0       128.0   \n",
       "1            0             4583             1508.0       128.0   \n",
       "2            1             3000                0.0        66.0   \n",
       "3            1             2583             2358.0       120.0   \n",
       "4            1             6000                0.0       141.0   \n",
       "\n",
       "   Loan_Amount_Term  Credit_History  \n",
       "0             360.0             1.0  \n",
       "1             360.0             1.0  \n",
       "2             360.0             1.0  \n",
       "3             360.0             1.0  \n",
       "4             360.0             1.0  "
      ]
     },
     "execution_count": 31,
     "metadata": {},
     "output_type": "execute_result"
    }
   ],
   "source": [
    "# changing the categorical variable in train dataset\n",
    "from sklearn.preprocessing import LabelEncoder\n",
    "\n",
    "le = LabelEncoder()\n",
    "data_cat =train_data[cat_columns].apply(le.fit_transform)\n",
    "data_numeric=train_data.drop(columns=cat_columns)\n",
    "train_data = pd.concat([data_cat,data_numeric],axis=1,ignore_index=False)\n",
    "train_data.head()"
   ]
  },
  {
   "cell_type": "code",
   "execution_count": 32,
   "id": "e2ade091",
   "metadata": {},
   "outputs": [
    {
     "data": {
      "text/html": [
       "<div>\n",
       "<style scoped>\n",
       "    .dataframe tbody tr th:only-of-type {\n",
       "        vertical-align: middle;\n",
       "    }\n",
       "\n",
       "    .dataframe tbody tr th {\n",
       "        vertical-align: top;\n",
       "    }\n",
       "\n",
       "    .dataframe thead th {\n",
       "        text-align: right;\n",
       "    }\n",
       "</style>\n",
       "<table border=\"1\" class=\"dataframe\">\n",
       "  <thead>\n",
       "    <tr style=\"text-align: right;\">\n",
       "      <th></th>\n",
       "      <th>Gender</th>\n",
       "      <th>Married</th>\n",
       "      <th>Dependents</th>\n",
       "      <th>Education</th>\n",
       "      <th>Self_Employed</th>\n",
       "      <th>Property_Area</th>\n",
       "      <th>ApplicantIncome</th>\n",
       "      <th>CoapplicantIncome</th>\n",
       "      <th>LoanAmount</th>\n",
       "      <th>Loan_Amount_Term</th>\n",
       "      <th>Credit_History</th>\n",
       "    </tr>\n",
       "  </thead>\n",
       "  <tbody>\n",
       "    <tr>\n",
       "      <th>0</th>\n",
       "      <td>1</td>\n",
       "      <td>1</td>\n",
       "      <td>0</td>\n",
       "      <td>0</td>\n",
       "      <td>0</td>\n",
       "      <td>2</td>\n",
       "      <td>5720</td>\n",
       "      <td>0</td>\n",
       "      <td>110.0</td>\n",
       "      <td>360.0</td>\n",
       "      <td>1.0</td>\n",
       "    </tr>\n",
       "    <tr>\n",
       "      <th>1</th>\n",
       "      <td>1</td>\n",
       "      <td>1</td>\n",
       "      <td>1</td>\n",
       "      <td>0</td>\n",
       "      <td>0</td>\n",
       "      <td>2</td>\n",
       "      <td>3076</td>\n",
       "      <td>1500</td>\n",
       "      <td>126.0</td>\n",
       "      <td>360.0</td>\n",
       "      <td>1.0</td>\n",
       "    </tr>\n",
       "    <tr>\n",
       "      <th>2</th>\n",
       "      <td>1</td>\n",
       "      <td>1</td>\n",
       "      <td>2</td>\n",
       "      <td>0</td>\n",
       "      <td>0</td>\n",
       "      <td>2</td>\n",
       "      <td>5000</td>\n",
       "      <td>1800</td>\n",
       "      <td>208.0</td>\n",
       "      <td>360.0</td>\n",
       "      <td>1.0</td>\n",
       "    </tr>\n",
       "    <tr>\n",
       "      <th>3</th>\n",
       "      <td>1</td>\n",
       "      <td>1</td>\n",
       "      <td>2</td>\n",
       "      <td>0</td>\n",
       "      <td>0</td>\n",
       "      <td>2</td>\n",
       "      <td>2340</td>\n",
       "      <td>2546</td>\n",
       "      <td>100.0</td>\n",
       "      <td>360.0</td>\n",
       "      <td>1.0</td>\n",
       "    </tr>\n",
       "    <tr>\n",
       "      <th>4</th>\n",
       "      <td>1</td>\n",
       "      <td>0</td>\n",
       "      <td>0</td>\n",
       "      <td>1</td>\n",
       "      <td>0</td>\n",
       "      <td>2</td>\n",
       "      <td>3276</td>\n",
       "      <td>0</td>\n",
       "      <td>78.0</td>\n",
       "      <td>360.0</td>\n",
       "      <td>1.0</td>\n",
       "    </tr>\n",
       "  </tbody>\n",
       "</table>\n",
       "</div>"
      ],
      "text/plain": [
       "   Gender  Married  Dependents  Education  Self_Employed  Property_Area  \\\n",
       "0       1        1           0          0              0              2   \n",
       "1       1        1           1          0              0              2   \n",
       "2       1        1           2          0              0              2   \n",
       "3       1        1           2          0              0              2   \n",
       "4       1        0           0          1              0              2   \n",
       "\n",
       "   ApplicantIncome  CoapplicantIncome  LoanAmount  Loan_Amount_Term  \\\n",
       "0             5720                  0       110.0             360.0   \n",
       "1             3076               1500       126.0             360.0   \n",
       "2             5000               1800       208.0             360.0   \n",
       "3             2340               2546       100.0             360.0   \n",
       "4             3276                  0        78.0             360.0   \n",
       "\n",
       "   Credit_History  \n",
       "0             1.0  \n",
       "1             1.0  \n",
       "2             1.0  \n",
       "3             1.0  \n",
       "4             1.0  "
      ]
     },
     "execution_count": 32,
     "metadata": {},
     "output_type": "execute_result"
    }
   ],
   "source": [
    "# changing the categorical variable in test dataset\n",
    "data_cat1 =test_data[['Gender','Married','Dependents','Education','Self_Employed','Property_Area']].apply(le.fit_transform)\n",
    "data_numeric1=test_data.drop(columns=['Gender','Married','Dependents','Education','Self_Employed','Property_Area'])\n",
    "test_data = pd.concat([data_cat1,data_numeric1],axis=1,ignore_index=False)\n",
    "test_data.head()"
   ]
  },
  {
   "cell_type": "code",
   "execution_count": 33,
   "id": "4a98a7fd",
   "metadata": {},
   "outputs": [
    {
     "name": "stdout",
     "output_type": "stream",
     "text": [
      "                     Gender   Married  Dependents  Education  Self_Employed  \\\n",
      "Gender             1.000000  0.364569    0.172914   0.045364      -0.000525   \n",
      "Married            0.364569  1.000000    0.334216   0.012304       0.004489   \n",
      "Dependents         0.172914  0.334216    1.000000   0.055752       0.056798   \n",
      "Education          0.045364  0.012304    0.055752   1.000000      -0.010383   \n",
      "Self_Employed     -0.000525  0.004489    0.056798  -0.010383       1.000000   \n",
      "Property_Area     -0.025752  0.004257   -0.000244  -0.065243      -0.030860   \n",
      "Loan_Status        0.017987  0.091478    0.010118  -0.085884      -0.003700   \n",
      "ApplicantIncome    0.058809  0.051708    0.118202  -0.140760       0.127180   \n",
      "CoapplicantIncome  0.082912  0.075948    0.030430  -0.062290      -0.016100   \n",
      "LoanAmount         0.106904  0.146546    0.163103  -0.168759       0.115100   \n",
      "Loan_Amount_Term  -0.074030 -0.100912   -0.103864  -0.073928      -0.033739   \n",
      "Credit_History     0.009170  0.010938   -0.040160  -0.073658      -0.001550   \n",
      "\n",
      "                   Property_Area  Loan_Status  ApplicantIncome  \\\n",
      "Gender                 -0.025752     0.017987         0.058809   \n",
      "Married                 0.004257     0.091478         0.051708   \n",
      "Dependents             -0.000244     0.010118         0.118202   \n",
      "Education              -0.065243    -0.085884        -0.140760   \n",
      "Self_Employed          -0.030860    -0.003700         0.127180   \n",
      "Property_Area           1.000000     0.032112        -0.009500   \n",
      "Loan_Status             0.032112     1.000000        -0.004710   \n",
      "ApplicantIncome        -0.009500    -0.004710         1.000000   \n",
      "CoapplicantIncome       0.010522    -0.059187        -0.116605   \n",
      "LoanAmount             -0.046632    -0.033214         0.565181   \n",
      "Loan_Amount_Term       -0.076120    -0.022549        -0.046531   \n",
      "Credit_History          0.001963     0.540556        -0.018615   \n",
      "\n",
      "                   CoapplicantIncome  LoanAmount  Loan_Amount_Term  \\\n",
      "Gender                      0.082912    0.106904         -0.074030   \n",
      "Married                     0.075948    0.146546         -0.100912   \n",
      "Dependents                  0.030430    0.163103         -0.103864   \n",
      "Education                  -0.062290   -0.168759         -0.073928   \n",
      "Self_Employed              -0.016100    0.115100         -0.033739   \n",
      "Property_Area               0.010522   -0.046632         -0.076120   \n",
      "Loan_Status                -0.059187   -0.033214         -0.022549   \n",
      "ApplicantIncome            -0.116605    0.565181         -0.046531   \n",
      "CoapplicantIncome           1.000000    0.189218         -0.059383   \n",
      "LoanAmount                  0.189218    1.000000          0.036960   \n",
      "Loan_Amount_Term           -0.059383    0.036960          1.000000   \n",
      "Credit_History              0.011134   -0.000607         -0.004705   \n",
      "\n",
      "                   Credit_History  \n",
      "Gender                   0.009170  \n",
      "Married                  0.010938  \n",
      "Dependents              -0.040160  \n",
      "Education               -0.073658  \n",
      "Self_Employed           -0.001550  \n",
      "Property_Area            0.001963  \n",
      "Loan_Status              0.540556  \n",
      "ApplicantIncome         -0.018615  \n",
      "CoapplicantIncome        0.011134  \n",
      "LoanAmount              -0.000607  \n",
      "Loan_Amount_Term        -0.004705  \n",
      "Credit_History           1.000000  \n",
      "Index(['Gender', 'Married', 'Dependents', 'Education', 'Self_Employed',\n",
      "       'Property_Area', 'Loan_Status', 'ApplicantIncome', 'CoapplicantIncome',\n",
      "       'LoanAmount', 'Loan_Amount_Term', 'Credit_History'],\n",
      "      dtype='object')\n"
     ]
    },
    {
     "data": {
      "image/png": "[encoded data removed]",
      "text/plain": [
       "<Figure size 900x900 with 2 Axes>"
      ]
     },
     "metadata": {},
     "output_type": "display_data"
    }
   ],
   "source": [
    "# correlation of each feature in dataset\n",
    "# plot heat map\n",
    "corrmat = train_data.corr()\n",
    "print(corrmat)\n",
    "top_corr_features = corrmat.index\n",
    "print(top_corr_features)\n",
    "plt.figure(figsize=(9,9))\n",
    "g=sns.heatmap(train_data[top_corr_features].corr(),annot=True,cmap=\"RdYlGn\")"
   ]
  },
  {
   "cell_type": "code",
   "execution_count": 34,
   "id": "0f2c94aa",
   "metadata": {},
   "outputs": [
    {
     "data": {
      "text/plain": [
       "1    422\n",
       "0    192\n",
       "Name: Loan_Status, dtype: int64"
      ]
     },
     "execution_count": 34,
     "metadata": {},
     "output_type": "execute_result"
    }
   ],
   "source": [
    "# To check whether the dataset is balaced or not\n",
    "train_data.Loan_Status.value_counts()"
   ]
  },
  {
   "cell_type": "code",
   "execution_count": 35,
   "id": "6db91efe",
   "metadata": {},
   "outputs": [
    {
     "name": "stdout",
     "output_type": "stream",
     "text": [
      "Upsampled data:\n",
      " 1    422\n",
      "0    422\n",
      "Name: Loan_Status, dtype: int64\n"
     ]
    }
   ],
   "source": [
    "from sklearn.utils import resample\n",
    "\n",
    "#To keep original data as it is to use the same for later\n",
    "new_data = train_data.copy()\n",
    "\n",
    "#Getting seperated data with 1 and 0 status.\n",
    "df_majority = new_data[new_data.Loan_Status==1]\n",
    "df_minority = new_data[new_data.Loan_Status==0]\n",
    "\n",
    "#Here we are upsampling the Minority Class Data Points. \n",
    "#i.e. We will get equal amount of datapoint as Majority class from Minority class\n",
    "df_monority_upsampled = resample(df_minority,replace=True,n_samples=422,random_state=123)\n",
    "df_upsampled = pd.concat([df_majority,df_monority_upsampled])\n",
    "print(\"Upsampled data:\\n\",df_upsampled.Loan_Status.value_counts())"
   ]
  },
  {
   "cell_type": "code",
   "execution_count": 36,
   "id": "0c9cb070",
   "metadata": {},
   "outputs": [
    {
     "data": {
      "text/plain": [
       "((844, 11), (844,))"
      ]
     },
     "execution_count": 36,
     "metadata": {},
     "output_type": "execute_result"
    }
   ],
   "source": [
    "# spliting the predictor variable and the explanatory variables from train dataset \n",
    "X = df_upsampled.drop(columns='Loan_Status')\n",
    "y = df_upsampled['Loan_Status']\n",
    "X.shape, y.shape"
   ]
  },
  {
   "cell_type": "code",
   "execution_count": 37,
   "id": "2d37599a",
   "metadata": {},
   "outputs": [
    {
     "data": {
      "text/plain": [
       "((675, 11), (675,), (169, 11), (169,))"
      ]
     },
     "execution_count": 37,
     "metadata": {},
     "output_type": "execute_result"
    }
   ],
   "source": [
    "# We split the data into training and validation(testing) set:\n",
    "from sklearn.model_selection import train_test_split\n",
    "\n",
    "X_train, X_test, y_train, y_test = train_test_split(X, y, test_size=0.2, random_state=42)\n",
    "X_train.shape, y_train.shape, X_test.shape, y_test.shape"
   ]
  },
  {
   "cell_type": "code",
   "execution_count": 38,
   "id": "37d7f5d8",
   "metadata": {},
   "outputs": [
    {
     "data": {
      "text/plain": [
       "((675, 17), (169, 17))"
      ]
     },
     "execution_count": 38,
     "metadata": {},
     "output_type": "execute_result"
    }
   ],
   "source": [
    "# converting the categorical variables into array of the numerical data in train dataset\n",
    "from sklearn.preprocessing import OneHotEncoder\n",
    "\n",
    "cat_cols =['Gender','Married','Dependents','Education','Self_Employed','Property_Area','Credit_History']\n",
    "ohc = OneHotEncoder(handle_unknown='ignore')\n",
    "ohc.fit(np.array(X_train[cat_cols]))\n",
    "X_train_ohc = ohc.transform(np.array(X_train[cat_cols])).toarray()\n",
    "X_test_ohc = ohc.transform(np.array(X_test[cat_cols])).toarray()\n",
    "X_train_ohc.shape, X_test_ohc.shape"
   ]
  },
  {
   "cell_type": "code",
   "execution_count": 39,
   "id": "3ccb7ba3",
   "metadata": {},
   "outputs": [],
   "source": [
    "# converting the categorical variables into array of the numerical data in test dataset\n",
    "ohc.fit(np.array(test_data[cat_cols]))\n",
    "test_data_ohc = ohc.transform(np.array(test_data[cat_cols])).toarray()"
   ]
  },
  {
   "cell_type": "code",
   "execution_count": 40,
   "id": "2a0da6f5",
   "metadata": {},
   "outputs": [
    {
     "data": {
      "text/plain": [
       "((675, 4), (169, 4), (367, 4))"
      ]
     },
     "execution_count": 40,
     "metadata": {},
     "output_type": "execute_result"
    }
   ],
   "source": [
    "# standardizing the numerical data features in train and test dataset respectively\n",
    "from sklearn.preprocessing import StandardScaler\n",
    "\n",
    "cols_lst = list(train_data.columns)\n",
    "cols_lst.remove('Loan_Status')\n",
    "for col in cat_cols:\n",
    "    cols_lst.remove(col)\n",
    "numerical_cols = cols_lst\n",
    "scaler = StandardScaler()\n",
    "scaler.fit(X_train[numerical_cols])\n",
    "X_train_std = scaler.transform(X_train[numerical_cols])\n",
    "X_test_std = scaler.transform(X_test[numerical_cols])\n",
    "\n",
    "test_data_std = scaler.transform(test_data[numerical_cols])\n",
    "\n",
    "X_train_std.shape, X_test_std.shape, test_data_std.shape"
   ]
  },
  {
   "cell_type": "code",
   "execution_count": 41,
   "id": "cf486a77",
   "metadata": {},
   "outputs": [
    {
     "data": {
      "text/plain": [
       "((675, 21), (169, 21), (367, 21))"
      ]
     },
     "execution_count": 41,
     "metadata": {},
     "output_type": "execute_result"
    }
   ],
   "source": [
    "X_train = pd.concat([pd.DataFrame(X_train_ohc),pd.DataFrame(X_train_std)],axis=1,ignore_index=True)\n",
    "X_test = pd.concat([pd.DataFrame(X_test_ohc),pd.DataFrame(X_test_std)],axis=1,ignore_index=True)\n",
    "\n",
    "test_data = pd.concat([pd.DataFrame(test_data_ohc),pd.DataFrame(test_data_std)],axis=1,ignore_index=True)\n",
    "\n",
    "X_train.shape, X_test.shape, test_data.shape"
   ]
  },
  {
   "cell_type": "code",
   "execution_count": 42,
   "id": "ef5cd674",
   "metadata": {},
   "outputs": [
    {
     "data": {
      "text/html": [
       "<div>\n",
       "<style scoped>\n",
       "    .dataframe tbody tr th:only-of-type {\n",
       "        vertical-align: middle;\n",
       "    }\n",
       "\n",
       "    .dataframe tbody tr th {\n",
       "        vertical-align: top;\n",
       "    }\n",
       "\n",
       "    .dataframe thead th {\n",
       "        text-align: right;\n",
       "    }\n",
       "</style>\n",
       "<table border=\"1\" class=\"dataframe\">\n",
       "  <thead>\n",
       "    <tr style=\"text-align: right;\">\n",
       "      <th></th>\n",
       "      <th>0</th>\n",
       "      <th>1</th>\n",
       "      <th>2</th>\n",
       "      <th>3</th>\n",
       "      <th>4</th>\n",
       "      <th>5</th>\n",
       "      <th>6</th>\n",
       "      <th>7</th>\n",
       "      <th>8</th>\n",
       "      <th>9</th>\n",
       "      <th>...</th>\n",
       "      <th>11</th>\n",
       "      <th>12</th>\n",
       "      <th>13</th>\n",
       "      <th>14</th>\n",
       "      <th>15</th>\n",
       "      <th>16</th>\n",
       "      <th>17</th>\n",
       "      <th>18</th>\n",
       "      <th>19</th>\n",
       "      <th>20</th>\n",
       "    </tr>\n",
       "  </thead>\n",
       "  <tbody>\n",
       "    <tr>\n",
       "      <th>0</th>\n",
       "      <td>0.0</td>\n",
       "      <td>1.0</td>\n",
       "      <td>1.0</td>\n",
       "      <td>0.0</td>\n",
       "      <td>1.0</td>\n",
       "      <td>0.0</td>\n",
       "      <td>0.0</td>\n",
       "      <td>0.0</td>\n",
       "      <td>0.0</td>\n",
       "      <td>1.0</td>\n",
       "      <td>...</td>\n",
       "      <td>0.0</td>\n",
       "      <td>0.0</td>\n",
       "      <td>1.0</td>\n",
       "      <td>0.0</td>\n",
       "      <td>0.0</td>\n",
       "      <td>1.0</td>\n",
       "      <td>-0.291236</td>\n",
       "      <td>-0.478949</td>\n",
       "      <td>-0.799299</td>\n",
       "      <td>-4.381794</td>\n",
       "    </tr>\n",
       "    <tr>\n",
       "      <th>1</th>\n",
       "      <td>0.0</td>\n",
       "      <td>1.0</td>\n",
       "      <td>0.0</td>\n",
       "      <td>1.0</td>\n",
       "      <td>0.0</td>\n",
       "      <td>1.0</td>\n",
       "      <td>0.0</td>\n",
       "      <td>0.0</td>\n",
       "      <td>0.0</td>\n",
       "      <td>1.0</td>\n",
       "      <td>...</td>\n",
       "      <td>0.0</td>\n",
       "      <td>0.0</td>\n",
       "      <td>0.0</td>\n",
       "      <td>1.0</td>\n",
       "      <td>0.0</td>\n",
       "      <td>1.0</td>\n",
       "      <td>-0.392401</td>\n",
       "      <td>0.060040</td>\n",
       "      <td>-0.111639</td>\n",
       "      <td>-2.312379</td>\n",
       "    </tr>\n",
       "    <tr>\n",
       "      <th>2</th>\n",
       "      <td>0.0</td>\n",
       "      <td>1.0</td>\n",
       "      <td>0.0</td>\n",
       "      <td>1.0</td>\n",
       "      <td>0.0</td>\n",
       "      <td>0.0</td>\n",
       "      <td>0.0</td>\n",
       "      <td>1.0</td>\n",
       "      <td>0.0</td>\n",
       "      <td>1.0</td>\n",
       "      <td>...</td>\n",
       "      <td>0.0</td>\n",
       "      <td>1.0</td>\n",
       "      <td>0.0</td>\n",
       "      <td>0.0</td>\n",
       "      <td>0.0</td>\n",
       "      <td>1.0</td>\n",
       "      <td>-0.376057</td>\n",
       "      <td>-0.047595</td>\n",
       "      <td>0.266575</td>\n",
       "      <td>0.274389</td>\n",
       "    </tr>\n",
       "    <tr>\n",
       "      <th>3</th>\n",
       "      <td>0.0</td>\n",
       "      <td>1.0</td>\n",
       "      <td>1.0</td>\n",
       "      <td>0.0</td>\n",
       "      <td>0.0</td>\n",
       "      <td>1.0</td>\n",
       "      <td>0.0</td>\n",
       "      <td>0.0</td>\n",
       "      <td>1.0</td>\n",
       "      <td>0.0</td>\n",
       "      <td>...</td>\n",
       "      <td>0.0</td>\n",
       "      <td>0.0</td>\n",
       "      <td>0.0</td>\n",
       "      <td>1.0</td>\n",
       "      <td>0.0</td>\n",
       "      <td>1.0</td>\n",
       "      <td>-0.254373</td>\n",
       "      <td>-0.478949</td>\n",
       "      <td>-0.421086</td>\n",
       "      <td>-2.312379</td>\n",
       "    </tr>\n",
       "    <tr>\n",
       "      <th>4</th>\n",
       "      <td>1.0</td>\n",
       "      <td>0.0</td>\n",
       "      <td>1.0</td>\n",
       "      <td>0.0</td>\n",
       "      <td>0.0</td>\n",
       "      <td>1.0</td>\n",
       "      <td>0.0</td>\n",
       "      <td>0.0</td>\n",
       "      <td>1.0</td>\n",
       "      <td>0.0</td>\n",
       "      <td>...</td>\n",
       "      <td>0.0</td>\n",
       "      <td>0.0</td>\n",
       "      <td>0.0</td>\n",
       "      <td>1.0</td>\n",
       "      <td>0.0</td>\n",
       "      <td>1.0</td>\n",
       "      <td>0.890291</td>\n",
       "      <td>-0.478949</td>\n",
       "      <td>-1.257740</td>\n",
       "      <td>0.274389</td>\n",
       "    </tr>\n",
       "    <tr>\n",
       "      <th>...</th>\n",
       "      <td>...</td>\n",
       "      <td>...</td>\n",
       "      <td>...</td>\n",
       "      <td>...</td>\n",
       "      <td>...</td>\n",
       "      <td>...</td>\n",
       "      <td>...</td>\n",
       "      <td>...</td>\n",
       "      <td>...</td>\n",
       "      <td>...</td>\n",
       "      <td>...</td>\n",
       "      <td>...</td>\n",
       "      <td>...</td>\n",
       "      <td>...</td>\n",
       "      <td>...</td>\n",
       "      <td>...</td>\n",
       "      <td>...</td>\n",
       "      <td>...</td>\n",
       "      <td>...</td>\n",
       "      <td>...</td>\n",
       "      <td>...</td>\n",
       "    </tr>\n",
       "    <tr>\n",
       "      <th>670</th>\n",
       "      <td>0.0</td>\n",
       "      <td>1.0</td>\n",
       "      <td>0.0</td>\n",
       "      <td>1.0</td>\n",
       "      <td>0.0</td>\n",
       "      <td>0.0</td>\n",
       "      <td>0.0</td>\n",
       "      <td>1.0</td>\n",
       "      <td>0.0</td>\n",
       "      <td>1.0</td>\n",
       "      <td>...</td>\n",
       "      <td>0.0</td>\n",
       "      <td>0.0</td>\n",
       "      <td>1.0</td>\n",
       "      <td>0.0</td>\n",
       "      <td>0.0</td>\n",
       "      <td>1.0</td>\n",
       "      <td>-0.444773</td>\n",
       "      <td>-0.274008</td>\n",
       "      <td>-0.638845</td>\n",
       "      <td>1.998901</td>\n",
       "    </tr>\n",
       "    <tr>\n",
       "      <th>671</th>\n",
       "      <td>0.0</td>\n",
       "      <td>1.0</td>\n",
       "      <td>0.0</td>\n",
       "      <td>1.0</td>\n",
       "      <td>0.0</td>\n",
       "      <td>1.0</td>\n",
       "      <td>0.0</td>\n",
       "      <td>0.0</td>\n",
       "      <td>1.0</td>\n",
       "      <td>0.0</td>\n",
       "      <td>...</td>\n",
       "      <td>0.0</td>\n",
       "      <td>0.0</td>\n",
       "      <td>0.0</td>\n",
       "      <td>1.0</td>\n",
       "      <td>0.0</td>\n",
       "      <td>1.0</td>\n",
       "      <td>0.446025</td>\n",
       "      <td>-0.478949</td>\n",
       "      <td>0.427029</td>\n",
       "      <td>0.274389</td>\n",
       "    </tr>\n",
       "    <tr>\n",
       "      <th>672</th>\n",
       "      <td>0.0</td>\n",
       "      <td>1.0</td>\n",
       "      <td>1.0</td>\n",
       "      <td>0.0</td>\n",
       "      <td>0.0</td>\n",
       "      <td>0.0</td>\n",
       "      <td>0.0</td>\n",
       "      <td>1.0</td>\n",
       "      <td>1.0</td>\n",
       "      <td>0.0</td>\n",
       "      <td>...</td>\n",
       "      <td>0.0</td>\n",
       "      <td>1.0</td>\n",
       "      <td>0.0</td>\n",
       "      <td>0.0</td>\n",
       "      <td>0.0</td>\n",
       "      <td>1.0</td>\n",
       "      <td>0.401766</td>\n",
       "      <td>-0.478949</td>\n",
       "      <td>0.404107</td>\n",
       "      <td>0.274389</td>\n",
       "    </tr>\n",
       "    <tr>\n",
       "      <th>673</th>\n",
       "      <td>0.0</td>\n",
       "      <td>1.0</td>\n",
       "      <td>0.0</td>\n",
       "      <td>1.0</td>\n",
       "      <td>1.0</td>\n",
       "      <td>0.0</td>\n",
       "      <td>0.0</td>\n",
       "      <td>0.0</td>\n",
       "      <td>1.0</td>\n",
       "      <td>0.0</td>\n",
       "      <td>...</td>\n",
       "      <td>0.0</td>\n",
       "      <td>0.0</td>\n",
       "      <td>0.0</td>\n",
       "      <td>1.0</td>\n",
       "      <td>1.0</td>\n",
       "      <td>0.0</td>\n",
       "      <td>-0.426878</td>\n",
       "      <td>-0.478949</td>\n",
       "      <td>-1.028519</td>\n",
       "      <td>0.274389</td>\n",
       "    </tr>\n",
       "    <tr>\n",
       "      <th>674</th>\n",
       "      <td>0.0</td>\n",
       "      <td>1.0</td>\n",
       "      <td>0.0</td>\n",
       "      <td>1.0</td>\n",
       "      <td>1.0</td>\n",
       "      <td>0.0</td>\n",
       "      <td>0.0</td>\n",
       "      <td>0.0</td>\n",
       "      <td>1.0</td>\n",
       "      <td>0.0</td>\n",
       "      <td>...</td>\n",
       "      <td>1.0</td>\n",
       "      <td>1.0</td>\n",
       "      <td>0.0</td>\n",
       "      <td>0.0</td>\n",
       "      <td>0.0</td>\n",
       "      <td>1.0</td>\n",
       "      <td>-0.384408</td>\n",
       "      <td>0.540319</td>\n",
       "      <td>0.025893</td>\n",
       "      <td>0.274389</td>\n",
       "    </tr>\n",
       "  </tbody>\n",
       "</table>\n",
       "<p>675 rows × 21 columns</p>\n",
       "</div>"
      ],
      "text/plain": [
       "      0    1    2    3    4    5    6    7    8    9   ...   11   12   13  \\\n",
       "0    0.0  1.0  1.0  0.0  1.0  0.0  0.0  0.0  0.0  1.0  ...  0.0  0.0  1.0   \n",
       "1    0.0  1.0  0.0  1.0  0.0  1.0  0.0  0.0  0.0  1.0  ...  0.0  0.0  0.0   \n",
       "2    0.0  1.0  0.0  1.0  0.0  0.0  0.0  1.0  0.0  1.0  ...  0.0  1.0  0.0   \n",
       "3    0.0  1.0  1.0  0.0  0.0  1.0  0.0  0.0  1.0  0.0  ...  0.0  0.0  0.0   \n",
       "4    1.0  0.0  1.0  0.0  0.0  1.0  0.0  0.0  1.0  0.0  ...  0.0  0.0  0.0   \n",
       "..   ...  ...  ...  ...  ...  ...  ...  ...  ...  ...  ...  ...  ...  ...   \n",
       "670  0.0  1.0  0.0  1.0  0.0  0.0  0.0  1.0  0.0  1.0  ...  0.0  0.0  1.0   \n",
       "671  0.0  1.0  0.0  1.0  0.0  1.0  0.0  0.0  1.0  0.0  ...  0.0  0.0  0.0   \n",
       "672  0.0  1.0  1.0  0.0  0.0  0.0  0.0  1.0  1.0  0.0  ...  0.0  1.0  0.0   \n",
       "673  0.0  1.0  0.0  1.0  1.0  0.0  0.0  0.0  1.0  0.0  ...  0.0  0.0  0.0   \n",
       "674  0.0  1.0  0.0  1.0  1.0  0.0  0.0  0.0  1.0  0.0  ...  1.0  1.0  0.0   \n",
       "\n",
       "      14   15   16        17        18        19        20  \n",
       "0    0.0  0.0  1.0 -0.291236 -0.478949 -0.799299 -4.381794  \n",
       "1    1.0  0.0  1.0 -0.392401  0.060040 -0.111639 -2.312379  \n",
       "2    0.0  0.0  1.0 -0.376057 -0.047595  0.266575  0.274389  \n",
       "3    1.0  0.0  1.0 -0.254373 -0.478949 -0.421086 -2.312379  \n",
       "4    1.0  0.0  1.0  0.890291 -0.478949 -1.257740  0.274389  \n",
       "..   ...  ...  ...       ...       ...       ...       ...  \n",
       "670  0.0  0.0  1.0 -0.444773 -0.274008 -0.638845  1.998901  \n",
       "671  1.0  0.0  1.0  0.446025 -0.478949  0.427029  0.274389  \n",
       "672  0.0  0.0  1.0  0.401766 -0.478949  0.404107  0.274389  \n",
       "673  1.0  1.0  0.0 -0.426878 -0.478949 -1.028519  0.274389  \n",
       "674  0.0  0.0  1.0 -0.384408  0.540319  0.025893  0.274389  \n",
       "\n",
       "[675 rows x 21 columns]"
      ]
     },
     "execution_count": 42,
     "metadata": {},
     "output_type": "execute_result"
    }
   ],
   "source": [
    "X_train"
   ]
  },
  {
   "cell_type": "code",
   "execution_count": 43,
   "id": "495f7045",
   "metadata": {},
   "outputs": [
    {
     "data": {
      "text/plain": [
       "array([1, 0, 0, 0, 1, 1, 0, 1, 1, 1, 1, 1, 1, 1, 0, 0, 0, 1, 1, 1, 0, 1,\n",
       "       1, 1, 1, 1, 0, 1, 1, 0, 1, 1, 1, 0, 0, 1, 0, 1, 0, 1, 1, 1, 1, 1,\n",
       "       1, 1, 0, 0, 1, 0, 0, 1, 1, 1, 1, 1, 1, 1, 1, 0, 1, 0, 0, 1, 0, 1,\n",
       "       1, 1, 0, 0, 0, 1, 1, 0, 0, 1, 0, 0, 1, 1, 1, 0, 1, 1, 1, 0, 1, 0,\n",
       "       0, 0, 0, 1, 1, 0, 1, 1, 1, 1, 1, 0, 1, 0, 1, 1, 0, 0, 1, 1, 1, 1,\n",
       "       1, 1, 0, 1, 1, 0, 1, 1, 1, 0, 0, 1, 1, 1, 1, 1, 0, 1, 1, 1, 1, 1,\n",
       "       1, 0, 0, 1, 0, 1, 0, 1, 1, 1, 1, 1, 1, 1, 1, 0, 0, 1, 0, 1, 1, 1,\n",
       "       1, 1, 1, 0, 1, 1, 1, 1, 0, 1, 1, 1, 1, 0, 1])"
      ]
     },
     "execution_count": 43,
     "metadata": {},
     "output_type": "execute_result"
    }
   ],
   "source": [
    "# Logistic Regression(LR) \n",
    "from sklearn.linear_model import LogisticRegression\n",
    "\n",
    "lr = LogisticRegression()\n",
    "clf = lr.fit(X_train,y_train)\n",
    "predictions_lr = clf.predict(X_test)\n",
    "predictions_lr"
   ]
  },
  {
   "cell_type": "code",
   "execution_count": 44,
   "id": "eaef272e",
   "metadata": {},
   "outputs": [
    {
     "name": "stdout",
     "output_type": "stream",
     "text": [
      "              precision    recall  f1-score   support\n",
      "\n",
      "           0       0.78      0.51      0.61        85\n",
      "           1       0.63      0.86      0.73        84\n",
      "\n",
      "    accuracy                           0.68       169\n",
      "   macro avg       0.71      0.68      0.67       169\n",
      "weighted avg       0.71      0.68      0.67       169\n",
      "\n"
     ]
    },
    {
     "data": {
      "text/plain": [
       "[Text(50.722222222222214, 0.5, 'Actual Values'),\n",
       " Text(0.5, 23.52222222222222, 'Predicted Values')]"
      ]
     },
     "execution_count": 44,
     "metadata": {},
     "output_type": "execute_result"
    },
    {
     "data": {
      "image/png": "[encoded data removed]",
      "text/plain": [
       "<Figure size 640x480 with 2 Axes>"
      ]
     },
     "metadata": {},
     "output_type": "display_data"
    }
   ],
   "source": [
    "#Classification Results\n",
    "print(classification_report(y_test,predictions_lr))\n",
    "ax = sns.heatmap(confusion_matrix(y_test,predictions_lr,labels=[0,1]),cmap='Blues',annot=True,xticklabels=[0,1],yticklabels=[0,1])\n",
    "ax.set(ylabel=\"Actual Values\", xlabel=\"Predicted Values\")"
   ]
  },
  {
   "cell_type": "code",
   "execution_count": 44,
   "id": "272938a0",
   "metadata": {},
   "outputs": [
    {
     "name": "stdout",
     "output_type": "stream",
     "text": [
      "              precision    recall  f1-score   support\n",
      "\n",
      "           0       0.88      0.45      0.59        85\n",
      "           1       0.63      0.94      0.75        84\n",
      "\n",
      "    accuracy                           0.69       169\n",
      "   macro avg       0.76      0.69      0.67       169\n",
      "weighted avg       0.76      0.69      0.67       169\n",
      "\n"
     ]
    },
    {
     "data": {
      "image/png": "[encoded data removed]",
      "text/plain": [
       "<Figure size 640x480 with 2 Axes>"
      ]
     },
     "metadata": {},
     "output_type": "display_data"
    }
   ],
   "source": [
    "# Naive Bayes(NB) \n",
    "from sklearn.naive_bayes import BernoulliNB\n",
    "\n",
    "bnb = BernoulliNB()\n",
    "bnb.fit(X_train,y_train)\n",
    "predictions_bnb = bnb.predict(X_test)\n",
    "\n",
    "print(classification_report(y_test,predictions_bnb))\n",
    "ax = sns.heatmap(confusion_matrix(y_test,predictions_bnb,labels=[0,1]),annot=True,cmap='Blues',xticklabels=[0,1],yticklabels=[0,1])\n",
    "ax.set(xlabel='Predicted_Values',ylabel='Actual_Values')\n",
    "plt.show()"
   ]
  },
  {
   "cell_type": "code",
   "execution_count": 45,
   "id": "e648260c",
   "metadata": {},
   "outputs": [
    {
     "name": "stdout",
     "output_type": "stream",
     "text": [
      "              precision    recall  f1-score   support\n",
      "\n",
      "           0       1.00      0.38      0.55        85\n",
      "           1       0.61      1.00      0.76        84\n",
      "\n",
      "    accuracy                           0.69       169\n",
      "   macro avg       0.81      0.69      0.65       169\n",
      "weighted avg       0.81      0.69      0.65       169\n",
      "\n"
     ]
    },
    {
     "data": {
      "image/png": "[encoded data removed]",
      "text/plain": [
       "<Figure size 640x480 with 2 Axes>"
      ]
     },
     "metadata": {},
     "output_type": "display_data"
    }
   ],
   "source": [
    "# Support Vector Machine(SVM)\n",
    "from sklearn.svm import SVC\n",
    "\n",
    "svm = SVC(kernel=\"linear\",class_weight=\"balanced\",probability=True)\n",
    "svm.fit(X_train,y_train)\n",
    "predictions_svm = svm.predict(X_test)\n",
    "\n",
    "print(classification_report(y_test,predictions_svm))\n",
    "ax = sns.heatmap(confusion_matrix(y_test,predictions_svm,labels=[0,1]),annot=True,cmap='Blues',xticklabels=[0,1],yticklabels=[0,1])\n",
    "ax.set(xlabel='Predicted_Values',ylabel='Actual_Values')\n",
    "plt.show()"
   ]
  },
  {
   "cell_type": "code",
   "execution_count": 45,
   "id": "caa7bd44",
   "metadata": {},
   "outputs": [
    {
     "name": "stdout",
     "output_type": "stream",
     "text": [
      "              precision    recall  f1-score   support\n",
      "\n",
      "           0       0.73      0.56      0.64        85\n",
      "           1       0.64      0.79      0.71        84\n",
      "\n",
      "    accuracy                           0.67       169\n",
      "   macro avg       0.68      0.68      0.67       169\n",
      "weighted avg       0.68      0.67      0.67       169\n",
      "\n"
     ]
    },
    {
     "data": {
      "image/png": "[encoded data removed]",
      "text/plain": [
       "<Figure size 640x480 with 2 Axes>"
      ]
     },
     "metadata": {},
     "output_type": "display_data"
    }
   ],
   "source": [
    "# ADA Boost Classifier\n",
    "from sklearn.ensemble import AdaBoostClassifier \n",
    "\n",
    "ada = AdaBoostClassifier()\n",
    "ada.fit(X_train,y_train)\n",
    "predictions_ada = ada.predict(X_test)\n",
    "\n",
    "print(classification_report(y_test,predictions_ada))\n",
    "ax = sns.heatmap(confusion_matrix(y_test,predictions_ada,labels=[0,1]),annot=True,cmap='Blues',xticklabels=[0,1],yticklabels=[0,1])\n",
    "ax.set(xlabel='Predicted_Values',ylabel='Actual_Values')\n",
    "plt.show()"
   ]
  },
  {
   "cell_type": "code",
   "execution_count": 46,
   "id": "f4734bdd",
   "metadata": {},
   "outputs": [
    {
     "name": "stdout",
     "output_type": "stream",
     "text": [
      "              precision    recall  f1-score   support\n",
      "\n",
      "           0       0.89      0.68      0.77        85\n",
      "           1       0.74      0.92      0.82        84\n",
      "\n",
      "    accuracy                           0.80       169\n",
      "   macro avg       0.82      0.80      0.80       169\n",
      "weighted avg       0.82      0.80      0.80       169\n",
      "\n"
     ]
    },
    {
     "data": {
      "image/png": "[encoded data removed]",
      "text/plain": [
       "<Figure size 640x480 with 2 Axes>"
      ]
     },
     "metadata": {},
     "output_type": "display_data"
    }
   ],
   "source": [
    "# Gradient Boosting Classifier\n",
    "from sklearn.ensemble import GradientBoostingClassifier\n",
    "\n",
    "gb = GradientBoostingClassifier()\n",
    "gb.fit(X_train,y_train)\n",
    "predictions_gb = gb.predict(X_test)\n",
    "\n",
    "print(classification_report(y_test,predictions_gb))\n",
    "ax = sns.heatmap(confusion_matrix(y_test,predictions_gb,labels=[0,1]),annot=True,cmap='Blues',xticklabels=[0,1],yticklabels=[0,1])\n",
    "ax.set(xlabel='Predicted_Values',ylabel='Actual_Values')\n",
    "plt.show()"
   ]
  },
  {
   "cell_type": "code",
   "execution_count": 48,
   "id": "355638be",
   "metadata": {},
   "outputs": [
    {
     "name": "stdout",
     "output_type": "stream",
     "text": [
      "              precision    recall  f1-score   support\n",
      "\n",
      "           0       0.91      0.47      0.62        85\n",
      "           1       0.64      0.95      0.77        84\n",
      "\n",
      "    accuracy                           0.71       169\n",
      "   macro avg       0.77      0.71      0.69       169\n",
      "weighted avg       0.78      0.71      0.69       169\n",
      "\n"
     ]
    },
    {
     "data": {
      "image/png": "[encoded data removed]",
      "text/plain": [
       "<Figure size 640x480 with 2 Axes>"
      ]
     },
     "metadata": {},
     "output_type": "display_data"
    }
   ],
   "source": [
    "# Linear Discriminant Analysis (LDA)\n",
    "from sklearn.discriminant_analysis import LinearDiscriminantAnalysis\n",
    "\n",
    "lda = LinearDiscriminantAnalysis ()\n",
    "lda.fit(X_train,y_train)\n",
    "predictions_lda = lda.predict(X_test)\n",
    "\n",
    "print(classification_report(y_test,predictions_lda))\n",
    "ax = sns.heatmap(confusion_matrix(y_test,predictions_gb,labels=[0,1]),annot=True,cmap='Blues',xticklabels=[0,1],yticklabels=[0,1])\n",
    "ax.set(xlabel='Predicted_Values',ylabel='Actual_Values')\n",
    "plt.show()"
   ]
  },
  {
   "cell_type": "code",
   "execution_count": 49,
   "id": "fc870038",
   "metadata": {},
   "outputs": [
    {
     "name": "stdout",
     "output_type": "stream",
     "text": [
      "Epoch 1/100\n",
      "85/85 [==============================] - 1s 3ms/step - loss: 0.7107 - accuracy: 0.5896\n",
      "Epoch 2/100\n",
      "85/85 [==============================] - 0s 3ms/step - loss: 0.6904 - accuracy: 0.6207\n",
      "Epoch 3/100\n",
      "85/85 [==============================] - 0s 3ms/step - loss: 0.6723 - accuracy: 0.6222\n",
      "Epoch 4/100\n",
      "85/85 [==============================] - 0s 3ms/step - loss: 0.6567 - accuracy: 0.6385\n",
      "Epoch 5/100\n",
      "85/85 [==============================] - 0s 3ms/step - loss: 0.6427 - accuracy: 0.6430\n",
      "Epoch 6/100\n",
      "85/85 [==============================] - 0s 3ms/step - loss: 0.6301 - accuracy: 0.6548\n",
      "Epoch 7/100\n",
      "85/85 [==============================] - 0s 3ms/step - loss: 0.6196 - accuracy: 0.6593\n",
      "Epoch 8/100\n",
      "85/85 [==============================] - 0s 3ms/step - loss: 0.6097 - accuracy: 0.6681\n",
      "Epoch 9/100\n",
      "85/85 [==============================] - 0s 3ms/step - loss: 0.6013 - accuracy: 0.6622\n",
      "Epoch 10/100\n",
      "85/85 [==============================] - 0s 3ms/step - loss: 0.5937 - accuracy: 0.6830\n",
      "Epoch 11/100\n",
      "85/85 [==============================] - 0s 3ms/step - loss: 0.5873 - accuracy: 0.6844\n",
      "Epoch 12/100\n",
      "85/85 [==============================] - 0s 3ms/step - loss: 0.5822 - accuracy: 0.6889\n",
      "Epoch 13/100\n",
      "85/85 [==============================] - 0s 3ms/step - loss: 0.5770 - accuracy: 0.6948\n",
      "Epoch 14/100\n",
      "85/85 [==============================] - 0s 3ms/step - loss: 0.5724 - accuracy: 0.7111\n",
      "Epoch 15/100\n",
      "85/85 [==============================] - 0s 3ms/step - loss: 0.5691 - accuracy: 0.7067\n",
      "Epoch 16/100\n",
      "85/85 [==============================] - 0s 3ms/step - loss: 0.5654 - accuracy: 0.7096\n",
      "Epoch 17/100\n",
      "85/85 [==============================] - 0s 3ms/step - loss: 0.5625 - accuracy: 0.7126\n",
      "Epoch 18/100\n",
      "85/85 [==============================] - 0s 3ms/step - loss: 0.5604 - accuracy: 0.7081\n",
      "Epoch 19/100\n",
      "85/85 [==============================] - 0s 3ms/step - loss: 0.5579 - accuracy: 0.7111\n",
      "Epoch 20/100\n",
      "85/85 [==============================] - 0s 3ms/step - loss: 0.5553 - accuracy: 0.7096\n",
      "Epoch 21/100\n",
      "85/85 [==============================] - 0s 3ms/step - loss: 0.5535 - accuracy: 0.7037\n",
      "Epoch 22/100\n",
      "85/85 [==============================] - 0s 3ms/step - loss: 0.5519 - accuracy: 0.6978\n",
      "Epoch 23/100\n",
      "85/85 [==============================] - 0s 3ms/step - loss: 0.5502 - accuracy: 0.6948\n",
      "Epoch 24/100\n",
      "85/85 [==============================] - 0s 3ms/step - loss: 0.5487 - accuracy: 0.6948\n",
      "Epoch 25/100\n",
      "85/85 [==============================] - 0s 3ms/step - loss: 0.5473 - accuracy: 0.6963\n",
      "Epoch 26/100\n",
      "85/85 [==============================] - 0s 3ms/step - loss: 0.5462 - accuracy: 0.6978\n",
      "Epoch 27/100\n",
      "85/85 [==============================] - 0s 3ms/step - loss: 0.5451 - accuracy: 0.7007\n",
      "Epoch 28/100\n",
      "85/85 [==============================] - 0s 3ms/step - loss: 0.5441 - accuracy: 0.6978\n",
      "Epoch 29/100\n",
      "85/85 [==============================] - 0s 3ms/step - loss: 0.5436 - accuracy: 0.7022\n",
      "Epoch 30/100\n",
      "85/85 [==============================] - 0s 3ms/step - loss: 0.5422 - accuracy: 0.7081\n",
      "Epoch 31/100\n",
      "85/85 [==============================] - 0s 4ms/step - loss: 0.5414 - accuracy: 0.6978\n",
      "Epoch 32/100\n",
      "85/85 [==============================] - 0s 3ms/step - loss: 0.5409 - accuracy: 0.7007\n",
      "Epoch 33/100\n",
      "85/85 [==============================] - 0s 3ms/step - loss: 0.5400 - accuracy: 0.7007\n",
      "Epoch 34/100\n",
      "85/85 [==============================] - 0s 4ms/step - loss: 0.5394 - accuracy: 0.7067\n",
      "Epoch 35/100\n",
      "85/85 [==============================] - 0s 3ms/step - loss: 0.5388 - accuracy: 0.7081\n",
      "Epoch 36/100\n",
      "85/85 [==============================] - 0s 3ms/step - loss: 0.5383 - accuracy: 0.7022\n",
      "Epoch 37/100\n",
      "85/85 [==============================] - 0s 4ms/step - loss: 0.5378 - accuracy: 0.7081\n",
      "Epoch 38/100\n",
      "85/85 [==============================] - 0s 4ms/step - loss: 0.5373 - accuracy: 0.7081\n",
      "Epoch 39/100\n",
      "85/85 [==============================] - 0s 4ms/step - loss: 0.5366 - accuracy: 0.7111\n",
      "Epoch 40/100\n",
      "85/85 [==============================] - 0s 3ms/step - loss: 0.5365 - accuracy: 0.7126\n",
      "Epoch 41/100\n",
      "85/85 [==============================] - 0s 3ms/step - loss: 0.5360 - accuracy: 0.7111\n",
      "Epoch 42/100\n",
      "85/85 [==============================] - 0s 4ms/step - loss: 0.5358 - accuracy: 0.7126\n",
      "Epoch 43/100\n",
      "85/85 [==============================] - 0s 4ms/step - loss: 0.5352 - accuracy: 0.7096\n",
      "Epoch 44/100\n",
      "85/85 [==============================] - 0s 4ms/step - loss: 0.5350 - accuracy: 0.7096\n",
      "Epoch 45/100\n",
      "85/85 [==============================] - 0s 4ms/step - loss: 0.5349 - accuracy: 0.7096\n",
      "Epoch 46/100\n",
      "85/85 [==============================] - 0s 4ms/step - loss: 0.5342 - accuracy: 0.7111\n",
      "Epoch 47/100\n",
      "85/85 [==============================] - 0s 4ms/step - loss: 0.5341 - accuracy: 0.7126\n",
      "Epoch 48/100\n",
      "85/85 [==============================] - 0s 4ms/step - loss: 0.5338 - accuracy: 0.7156\n",
      "Epoch 49/100\n",
      "85/85 [==============================] - 0s 4ms/step - loss: 0.5334 - accuracy: 0.7170\n",
      "Epoch 50/100\n",
      "85/85 [==============================] - 0s 4ms/step - loss: 0.5337 - accuracy: 0.7111\n",
      "Epoch 51/100\n",
      "85/85 [==============================] - 0s 4ms/step - loss: 0.5332 - accuracy: 0.7141\n",
      "Epoch 52/100\n",
      "85/85 [==============================] - 0s 3ms/step - loss: 0.5329 - accuracy: 0.7126\n",
      "Epoch 53/100\n",
      "85/85 [==============================] - 0s 4ms/step - loss: 0.5331 - accuracy: 0.7141\n",
      "Epoch 54/100\n",
      "85/85 [==============================] - 0s 3ms/step - loss: 0.5326 - accuracy: 0.7096\n",
      "Epoch 55/100\n",
      "85/85 [==============================] - 0s 3ms/step - loss: 0.5324 - accuracy: 0.7111\n",
      "Epoch 56/100\n",
      "85/85 [==============================] - 0s 3ms/step - loss: 0.5326 - accuracy: 0.7111\n",
      "Epoch 57/100\n",
      "85/85 [==============================] - 0s 3ms/step - loss: 0.5322 - accuracy: 0.7141\n",
      "Epoch 58/100\n",
      "85/85 [==============================] - 0s 3ms/step - loss: 0.5320 - accuracy: 0.7170\n",
      "Epoch 59/100\n",
      "85/85 [==============================] - 0s 3ms/step - loss: 0.5320 - accuracy: 0.7126\n",
      "Epoch 60/100\n",
      "85/85 [==============================] - 0s 3ms/step - loss: 0.5318 - accuracy: 0.7141\n",
      "Epoch 61/100\n",
      "85/85 [==============================] - 0s 3ms/step - loss: 0.5320 - accuracy: 0.7170\n",
      "Epoch 62/100\n",
      "85/85 [==============================] - 0s 3ms/step - loss: 0.5317 - accuracy: 0.7126\n",
      "Epoch 63/100\n",
      "85/85 [==============================] - 0s 3ms/step - loss: 0.5314 - accuracy: 0.7126\n",
      "Epoch 64/100\n",
      "85/85 [==============================] - 0s 3ms/step - loss: 0.5316 - accuracy: 0.7126\n",
      "Epoch 65/100\n",
      "85/85 [==============================] - 0s 4ms/step - loss: 0.5317 - accuracy: 0.7141\n",
      "Epoch 66/100\n",
      "85/85 [==============================] - 0s 3ms/step - loss: 0.5315 - accuracy: 0.7141\n",
      "Epoch 67/100\n",
      "85/85 [==============================] - 0s 3ms/step - loss: 0.5312 - accuracy: 0.7141\n",
      "Epoch 68/100\n",
      "85/85 [==============================] - 0s 3ms/step - loss: 0.5316 - accuracy: 0.7096\n",
      "Epoch 69/100\n",
      "85/85 [==============================] - 0s 3ms/step - loss: 0.5311 - accuracy: 0.7126\n",
      "Epoch 70/100\n",
      "85/85 [==============================] - 0s 3ms/step - loss: 0.5315 - accuracy: 0.7156\n",
      "Epoch 71/100\n",
      "85/85 [==============================] - 0s 3ms/step - loss: 0.5309 - accuracy: 0.7111\n",
      "Epoch 72/100\n",
      "85/85 [==============================] - 0s 3ms/step - loss: 0.5311 - accuracy: 0.7126\n",
      "Epoch 73/100\n",
      "85/85 [==============================] - 0s 3ms/step - loss: 0.5308 - accuracy: 0.7141\n",
      "Epoch 74/100\n",
      "85/85 [==============================] - 0s 3ms/step - loss: 0.5307 - accuracy: 0.7141\n",
      "Epoch 75/100\n",
      "85/85 [==============================] - 0s 3ms/step - loss: 0.5308 - accuracy: 0.7141\n",
      "Epoch 76/100\n",
      "85/85 [==============================] - 0s 3ms/step - loss: 0.5312 - accuracy: 0.7156\n",
      "Epoch 77/100\n",
      "85/85 [==============================] - 0s 3ms/step - loss: 0.5307 - accuracy: 0.7156\n",
      "Epoch 78/100\n",
      "85/85 [==============================] - 0s 3ms/step - loss: 0.5310 - accuracy: 0.7170\n",
      "Epoch 79/100\n",
      "85/85 [==============================] - 0s 3ms/step - loss: 0.5314 - accuracy: 0.7067\n",
      "Epoch 80/100\n",
      "85/85 [==============================] - 0s 3ms/step - loss: 0.5306 - accuracy: 0.7141\n",
      "Epoch 81/100\n",
      "85/85 [==============================] - 0s 3ms/step - loss: 0.5306 - accuracy: 0.7141\n",
      "Epoch 82/100\n",
      "85/85 [==============================] - 0s 3ms/step - loss: 0.5306 - accuracy: 0.7170\n",
      "Epoch 83/100\n",
      "85/85 [==============================] - 0s 3ms/step - loss: 0.5303 - accuracy: 0.7081\n",
      "Epoch 84/100\n",
      "85/85 [==============================] - 0s 3ms/step - loss: 0.5307 - accuracy: 0.7141\n",
      "Epoch 85/100\n",
      "85/85 [==============================] - 0s 3ms/step - loss: 0.5308 - accuracy: 0.7126\n",
      "Epoch 86/100\n",
      "85/85 [==============================] - 0s 3ms/step - loss: 0.5307 - accuracy: 0.7126\n",
      "Epoch 87/100\n",
      "85/85 [==============================] - 0s 3ms/step - loss: 0.5304 - accuracy: 0.7126\n",
      "Epoch 88/100\n",
      "85/85 [==============================] - 0s 3ms/step - loss: 0.5306 - accuracy: 0.7170\n",
      "Epoch 89/100\n",
      "85/85 [==============================] - 0s 3ms/step - loss: 0.5303 - accuracy: 0.7111\n",
      "Epoch 90/100\n",
      "85/85 [==============================] - 0s 3ms/step - loss: 0.5306 - accuracy: 0.7126\n",
      "Epoch 91/100\n",
      "85/85 [==============================] - 0s 3ms/step - loss: 0.5303 - accuracy: 0.7170\n",
      "Epoch 92/100\n",
      "85/85 [==============================] - 0s 3ms/step - loss: 0.5305 - accuracy: 0.7111\n",
      "Epoch 93/100\n",
      "85/85 [==============================] - 0s 3ms/step - loss: 0.5306 - accuracy: 0.7141\n",
      "Epoch 94/100\n",
      "85/85 [==============================] - 0s 3ms/step - loss: 0.5305 - accuracy: 0.7111\n",
      "Epoch 95/100\n",
      "85/85 [==============================] - 0s 4ms/step - loss: 0.5305 - accuracy: 0.7156\n",
      "Epoch 96/100\n",
      "85/85 [==============================] - 0s 3ms/step - loss: 0.5301 - accuracy: 0.7111\n",
      "Epoch 97/100\n",
      "85/85 [==============================] - 0s 3ms/step - loss: 0.5303 - accuracy: 0.7111\n",
      "Epoch 98/100\n",
      "85/85 [==============================] - 0s 3ms/step - loss: 0.5304 - accuracy: 0.7111\n",
      "Epoch 99/100\n",
      "85/85 [==============================] - 0s 4ms/step - loss: 0.5302 - accuracy: 0.7126\n",
      "Epoch 100/100\n",
      "85/85 [==============================] - 0s 4ms/step - loss: 0.5305 - accuracy: 0.7111\n"
     ]
    },
    {
     "data": {
      "text/plain": [
       "<keras.src.callbacks.History at 0x29d6649a090>"
      ]
     },
     "execution_count": 49,
     "metadata": {},
     "output_type": "execute_result"
    }
   ],
   "source": [
    "# Single Neron Model \n",
    "import tensorflow as tf\n",
    "from tensorflow import keras\n",
    "\n",
    "snm = keras.Sequential([keras.layers.Dense(1,input_dim=21,activation='sigmoid')])\n",
    "snm.compile(loss='binary_crossentropy',optimizer='adam',metrics=['accuracy'])\n",
    "snm.fit(X_train,y_train,epochs=100,batch_size=8)"
   ]
  },
  {
   "cell_type": "code",
   "execution_count": 50,
   "id": "166309d3",
   "metadata": {},
   "outputs": [
    {
     "name": "stdout",
     "output_type": "stream",
     "text": [
      "6/6 [==============================] - 0s 4ms/step - loss: 0.5339 - accuracy: 0.6864\n"
     ]
    },
    {
     "data": {
      "text/plain": [
       "[0.5338962078094482, 0.6863905191421509]"
      ]
     },
     "execution_count": 50,
     "metadata": {},
     "output_type": "execute_result"
    }
   ],
   "source": [
    "snm.evaluate(X_test,y_test)"
   ]
  },
  {
   "cell_type": "code",
   "execution_count": 51,
   "id": "a16d6871",
   "metadata": {},
   "outputs": [
    {
     "name": "stdout",
     "output_type": "stream",
     "text": [
      "6/6 [==============================] - 0s 4ms/step\n"
     ]
    }
   ],
   "source": [
    "predicted_snm = np.round(snm.predict(X_test).reshape(-1))"
   ]
  },
  {
   "cell_type": "code",
   "execution_count": 52,
   "id": "2cd1d8a2",
   "metadata": {},
   "outputs": [
    {
     "data": {
      "text/plain": [
       "1.0    115\n",
       "0.0     54\n",
       "dtype: int64"
      ]
     },
     "execution_count": 52,
     "metadata": {},
     "output_type": "execute_result"
    }
   ],
   "source": [
    "pd.DataFrame(predicted_snm).value_counts()"
   ]
  },
  {
   "cell_type": "code",
   "execution_count": 53,
   "id": "2e89a3f7",
   "metadata": {},
   "outputs": [
    {
     "name": "stdout",
     "output_type": "stream",
     "text": [
      "              precision    recall  f1-score   support\n",
      "\n",
      "           0       0.80      0.51      0.62        85\n",
      "           1       0.63      0.87      0.73        84\n",
      "\n",
      "    accuracy                           0.69       169\n",
      "   macro avg       0.72      0.69      0.68       169\n",
      "weighted avg       0.72      0.69      0.68       169\n",
      "\n"
     ]
    },
    {
     "data": {
      "image/png": "[encoded data removed]",
      "text/plain": [
       "<Figure size 640x480 with 2 Axes>"
      ]
     },
     "metadata": {},
     "output_type": "display_data"
    }
   ],
   "source": [
    "print(classification_report(y_test,predicted_snm))\n",
    "ax = sns.heatmap(confusion_matrix(y_test,predicted_snm,labels=[0,1]),annot=True,cmap='Blues',xticklabels=[0,1],yticklabels=[0,1])\n",
    "ax.set(xlabel='Predicted_Values',ylabel='Actual_Values')\n",
    "plt.show()\n"
   ]
  },
  {
   "cell_type": "code",
   "execution_count": 47,
   "id": "1cace726",
   "metadata": {},
   "outputs": [
    {
     "name": "stdout",
     "output_type": "stream",
     "text": [
      "              precision    recall  f1-score   support\n",
      "\n",
      "           0       0.93      0.95      0.94        85\n",
      "           1       0.95      0.93      0.94        84\n",
      "\n",
      "    accuracy                           0.94       169\n",
      "   macro avg       0.94      0.94      0.94       169\n",
      "weighted avg       0.94      0.94      0.94       169\n",
      "\n"
     ]
    },
    {
     "data": {
      "image/png": "[encoded data removed]",
      "text/plain": [
       "<Figure size 640x480 with 2 Axes>"
      ]
     },
     "metadata": {},
     "output_type": "display_data"
    }
   ],
   "source": [
    "# Voting Ensemble Method (Combining all tree based algorithm)\n",
    "from sklearn.ensemble import VotingClassifier, RandomForestClassifier\n",
    "from xgboost import XGBClassifier\n",
    "from sklearn.tree import DecisionTreeClassifier\n",
    "\n",
    "models=[]\n",
    "models.append((\"XGB\",XGBClassifier()))\n",
    "models.append((\"RF\",RandomForestClassifier()))\n",
    "models.append((\"DT\",DecisionTreeClassifier()))\n",
    "models.append((\"ADB\",AdaBoostClassifier()))\n",
    "models.append((\"GB\",GradientBoostingClassifier()))\n",
    "\n",
    "ensemble=VotingClassifier(estimators=models)\n",
    "ensemble.fit(X_train,y_train)\n",
    "predictions_vem = ensemble.predict(X_test)\n",
    "\n",
    "print(classification_report(y_test,predictions_vem))\n",
    "ax = sns.heatmap(confusion_matrix(y_test,predictions_vem,labels=[0,1]),annot=True,cmap='Blues',xticklabels=[0,1],yticklabels=[0,1])\n",
    "ax.set(xlabel='Predicted_Values',ylabel='Actual_Values')\n",
    "plt.show()"
   ]
  },
  {
   "cell_type": "code",
   "execution_count": 55,
   "id": "226a5d46",
   "metadata": {},
   "outputs": [
    {
     "name": "stdout",
     "output_type": "stream",
     "text": [
      "Logistic Regreesion:\n",
      "\n",
      "              precision    recall  f1-score   support\n",
      "\n",
      "           0       0.78      0.51      0.61        85\n",
      "           1       0.63      0.86      0.73        84\n",
      "\n",
      "    accuracy                           0.68       169\n",
      "   macro avg       0.71      0.68      0.67       169\n",
      "weighted avg       0.71      0.68      0.67       169\n",
      "\n",
      "Bernoulli Naive Bayes:\n",
      "\n",
      "              precision    recall  f1-score   support\n",
      "\n",
      "           0       0.88      0.45      0.59        85\n",
      "           1       0.63      0.94      0.75        84\n",
      "\n",
      "    accuracy                           0.69       169\n",
      "   macro avg       0.76      0.69      0.67       169\n",
      "weighted avg       0.76      0.69      0.67       169\n",
      "\n",
      "Support Vector Machine:\n",
      "\n",
      "              precision    recall  f1-score   support\n",
      "\n",
      "           0       1.00      0.38      0.55        85\n",
      "           1       0.61      1.00      0.76        84\n",
      "\n",
      "    accuracy                           0.69       169\n",
      "   macro avg       0.81      0.69      0.65       169\n",
      "weighted avg       0.81      0.69      0.65       169\n",
      "\n",
      "ADA Boost Classifier:\n",
      "\n",
      "              precision    recall  f1-score   support\n",
      "\n",
      "           0       0.73      0.56      0.64        85\n",
      "           1       0.64      0.79      0.71        84\n",
      "\n",
      "    accuracy                           0.67       169\n",
      "   macro avg       0.68      0.68      0.67       169\n",
      "weighted avg       0.68      0.67      0.67       169\n",
      "\n",
      "Gradient Boosting Classifier:\n",
      "\n",
      "              precision    recall  f1-score   support\n",
      "\n",
      "           0       0.89      0.68      0.77        85\n",
      "           1       0.74      0.92      0.82        84\n",
      "\n",
      "    accuracy                           0.80       169\n",
      "   macro avg       0.82      0.80      0.80       169\n",
      "weighted avg       0.82      0.80      0.80       169\n",
      "\n",
      "Linear Discriminant Analysis:\n",
      "\n",
      "              precision    recall  f1-score   support\n",
      "\n",
      "           0       0.91      0.47      0.62        85\n",
      "           1       0.64      0.95      0.77        84\n",
      "\n",
      "    accuracy                           0.71       169\n",
      "   macro avg       0.77      0.71      0.69       169\n",
      "weighted avg       0.78      0.71      0.69       169\n",
      "\n",
      "Single Neuron Network Model:\n",
      "\n",
      "              precision    recall  f1-score   support\n",
      "\n",
      "           0       0.80      0.51      0.62        85\n",
      "           1       0.63      0.87      0.73        84\n",
      "\n",
      "    accuracy                           0.69       169\n",
      "   macro avg       0.72      0.69      0.68       169\n",
      "weighted avg       0.72      0.69      0.68       169\n",
      "\n",
      " Voting Ensemble Method:\n",
      "\n",
      "              precision    recall  f1-score   support\n",
      "\n",
      "           0       0.91      0.95      0.93        85\n",
      "           1       0.95      0.90      0.93        84\n",
      "\n",
      "    accuracy                           0.93       169\n",
      "   macro avg       0.93      0.93      0.93       169\n",
      "weighted avg       0.93      0.93      0.93       169\n",
      "\n"
     ]
    }
   ],
   "source": [
    "print(\"Logistic Regreesion:\\n\")\n",
    "print(classification_report(y_test,predictions_lr))\n",
    "print(\"Bernoulli Naive Bayes:\\n\")\n",
    "print(classification_report(y_test,predictions_bnb))\n",
    "print(\"Support Vector Machine:\\n\")\n",
    "print(classification_report(y_test,predictions_svm))\n",
    "print(\"ADA Boost Classifier:\\n\")\n",
    "print(classification_report(y_test,predictions_ada))\n",
    "print(\"Gradient Boosting Classifier:\\n\")\n",
    "print(classification_report(y_test,predictions_gb))\n",
    "print(\"Linear Discriminant Analysis:\\n\")\n",
    "print(classification_report(y_test,predictions_lda))\n",
    "print(\"Single Neuron Network Model:\\n\")\n",
    "print(classification_report(y_test,predicted_snm))\n",
    "print(\" Voting Ensemble Method:\\n\")\n",
    "print(classification_report(y_test,predictions_vem))"
   ]
  },
  {
   "cell_type": "code",
   "execution_count": 48,
   "id": "0808eab4",
   "metadata": {},
   "outputs": [
    {
     "name": "stdout",
     "output_type": "stream",
     "text": [
      "[1 1 1 1 0 1 1 0 1 1 0 1 1 0 1 1 1 1 1 1 1 1 1 1 1 0 1 1 1 1 1 1 1 1 1 0 1\n",
      " 1 1 1 1 1 1 1 1 1 1 1 1 1 1 1 1 1 1 0 1 1 0 1 1 1 1 0 1 1 0 0 1 0 1 1 1 1\n",
      " 1 1 1 1 1 1 0 1 0 1 0 1 1 1 1 1 1 1 1 1 0 1 1 1 1 1 1 0 1 0 1 1 0 1 1 1 1\n",
      " 1 1 1 1 1 1 0 0 0 1 1 1 0 0 1 0 1 1 1 1 1 1 1 1 1 1 0 1 1 0 1 0 1 1 1 1 0\n",
      " 1 1 1 1 1 0 0 1 1 1 1 1 1 0 1 1 0 0 0 1 0 0 1 1 1 0 0 1 1 1 1 1 1 1 0 1 1\n",
      " 1 1 1 0 1 0 1 0 0 1 1 0 1 0 1 1 1 1 1 1 1 1 1 0 1 1 0 1 1 1 1 1 1 1 1 1 1\n",
      " 0 1 0 1 1 1 1 0 1 1 1 1 1 0 0 1 1 0 1 0 1 0 1 0 1 1 1 1 0 1 1 1 1 0 1 1 1\n",
      " 0 1 1 1 0 1 1 0 1 0 1 1 1 0 0 0 1 1 1 0 0 1 1 1 1 1 1 1 1 1 1 1 1 1 0 1 1\n",
      " 1 0 1 1 1 0 0 1 1 1 1 1 1 1 1 0 1 1 1 1 1 0 1 1 1 0 1 1 1 0 1 1 1 1 1 1 0\n",
      " 1 1 1 1 1 1 0 1 1 0 0 1 1 0 0 1 1 1 1 1 1 0 1 1 1 0 1 1 1 1 1 1 1 1]\n"
     ]
    }
   ],
   "source": [
    "# Predicting Loan Status for test dataset using the best model obtained above\n",
    "Tr_predictions = ensemble.predict(test_data)\n",
    "print(Tr_predictions)"
   ]
  },
  {
   "cell_type": "code",
   "execution_count": 49,
   "id": "6bc9e9e6",
   "metadata": {},
   "outputs": [
    {
     "data": {
      "text/html": [
       "<div>\n",
       "<style scoped>\n",
       "    .dataframe tbody tr th:only-of-type {\n",
       "        vertical-align: middle;\n",
       "    }\n",
       "\n",
       "    .dataframe tbody tr th {\n",
       "        vertical-align: top;\n",
       "    }\n",
       "\n",
       "    .dataframe thead th {\n",
       "        text-align: right;\n",
       "    }\n",
       "</style>\n",
       "<table border=\"1\" class=\"dataframe\">\n",
       "  <thead>\n",
       "    <tr style=\"text-align: right;\">\n",
       "      <th></th>\n",
       "      <th>0</th>\n",
       "      <th>1</th>\n",
       "      <th>2</th>\n",
       "      <th>3</th>\n",
       "      <th>4</th>\n",
       "      <th>5</th>\n",
       "      <th>6</th>\n",
       "      <th>7</th>\n",
       "      <th>8</th>\n",
       "      <th>9</th>\n",
       "      <th>...</th>\n",
       "      <th>12</th>\n",
       "      <th>13</th>\n",
       "      <th>14</th>\n",
       "      <th>15</th>\n",
       "      <th>16</th>\n",
       "      <th>17</th>\n",
       "      <th>18</th>\n",
       "      <th>19</th>\n",
       "      <th>20</th>\n",
       "      <th>Predicted_Loan_Status</th>\n",
       "    </tr>\n",
       "  </thead>\n",
       "  <tbody>\n",
       "    <tr>\n",
       "      <th>0</th>\n",
       "      <td>0.0</td>\n",
       "      <td>1.0</td>\n",
       "      <td>0.0</td>\n",
       "      <td>1.0</td>\n",
       "      <td>1.0</td>\n",
       "      <td>0.0</td>\n",
       "      <td>0.0</td>\n",
       "      <td>0.0</td>\n",
       "      <td>1.0</td>\n",
       "      <td>0.0</td>\n",
       "      <td>...</td>\n",
       "      <td>0.0</td>\n",
       "      <td>0.0</td>\n",
       "      <td>1.0</td>\n",
       "      <td>0.0</td>\n",
       "      <td>1.0</td>\n",
       "      <td>-0.009454</td>\n",
       "      <td>-0.478949</td>\n",
       "      <td>-0.455469</td>\n",
       "      <td>0.274389</td>\n",
       "      <td>1</td>\n",
       "    </tr>\n",
       "    <tr>\n",
       "      <th>1</th>\n",
       "      <td>0.0</td>\n",
       "      <td>1.0</td>\n",
       "      <td>0.0</td>\n",
       "      <td>1.0</td>\n",
       "      <td>0.0</td>\n",
       "      <td>1.0</td>\n",
       "      <td>0.0</td>\n",
       "      <td>0.0</td>\n",
       "      <td>1.0</td>\n",
       "      <td>0.0</td>\n",
       "      <td>...</td>\n",
       "      <td>0.0</td>\n",
       "      <td>0.0</td>\n",
       "      <td>1.0</td>\n",
       "      <td>0.0</td>\n",
       "      <td>1.0</td>\n",
       "      <td>-0.324878</td>\n",
       "      <td>-0.071242</td>\n",
       "      <td>-0.272093</td>\n",
       "      <td>0.274389</td>\n",
       "      <td>1</td>\n",
       "    </tr>\n",
       "    <tr>\n",
       "      <th>2</th>\n",
       "      <td>0.0</td>\n",
       "      <td>1.0</td>\n",
       "      <td>0.0</td>\n",
       "      <td>1.0</td>\n",
       "      <td>0.0</td>\n",
       "      <td>0.0</td>\n",
       "      <td>1.0</td>\n",
       "      <td>0.0</td>\n",
       "      <td>1.0</td>\n",
       "      <td>0.0</td>\n",
       "      <td>...</td>\n",
       "      <td>0.0</td>\n",
       "      <td>0.0</td>\n",
       "      <td>1.0</td>\n",
       "      <td>0.0</td>\n",
       "      <td>1.0</td>\n",
       "      <td>-0.095349</td>\n",
       "      <td>0.010300</td>\n",
       "      <td>0.667710</td>\n",
       "      <td>0.274389</td>\n",
       "      <td>1</td>\n",
       "    </tr>\n",
       "    <tr>\n",
       "      <th>3</th>\n",
       "      <td>0.0</td>\n",
       "      <td>1.0</td>\n",
       "      <td>0.0</td>\n",
       "      <td>1.0</td>\n",
       "      <td>0.0</td>\n",
       "      <td>0.0</td>\n",
       "      <td>1.0</td>\n",
       "      <td>0.0</td>\n",
       "      <td>1.0</td>\n",
       "      <td>0.0</td>\n",
       "      <td>...</td>\n",
       "      <td>0.0</td>\n",
       "      <td>0.0</td>\n",
       "      <td>1.0</td>\n",
       "      <td>0.0</td>\n",
       "      <td>1.0</td>\n",
       "      <td>-0.412682</td>\n",
       "      <td>0.213066</td>\n",
       "      <td>-0.570079</td>\n",
       "      <td>0.274389</td>\n",
       "      <td>1</td>\n",
       "    </tr>\n",
       "    <tr>\n",
       "      <th>4</th>\n",
       "      <td>0.0</td>\n",
       "      <td>1.0</td>\n",
       "      <td>1.0</td>\n",
       "      <td>0.0</td>\n",
       "      <td>1.0</td>\n",
       "      <td>0.0</td>\n",
       "      <td>0.0</td>\n",
       "      <td>0.0</td>\n",
       "      <td>0.0</td>\n",
       "      <td>1.0</td>\n",
       "      <td>...</td>\n",
       "      <td>0.0</td>\n",
       "      <td>0.0</td>\n",
       "      <td>1.0</td>\n",
       "      <td>0.0</td>\n",
       "      <td>1.0</td>\n",
       "      <td>-0.301019</td>\n",
       "      <td>-0.478949</td>\n",
       "      <td>-0.822221</td>\n",
       "      <td>0.274389</td>\n",
       "      <td>0</td>\n",
       "    </tr>\n",
       "    <tr>\n",
       "      <th>...</th>\n",
       "      <td>...</td>\n",
       "      <td>...</td>\n",
       "      <td>...</td>\n",
       "      <td>...</td>\n",
       "      <td>...</td>\n",
       "      <td>...</td>\n",
       "      <td>...</td>\n",
       "      <td>...</td>\n",
       "      <td>...</td>\n",
       "      <td>...</td>\n",
       "      <td>...</td>\n",
       "      <td>...</td>\n",
       "      <td>...</td>\n",
       "      <td>...</td>\n",
       "      <td>...</td>\n",
       "      <td>...</td>\n",
       "      <td>...</td>\n",
       "      <td>...</td>\n",
       "      <td>...</td>\n",
       "      <td>...</td>\n",
       "      <td>...</td>\n",
       "    </tr>\n",
       "    <tr>\n",
       "      <th>362</th>\n",
       "      <td>0.0</td>\n",
       "      <td>1.0</td>\n",
       "      <td>0.0</td>\n",
       "      <td>1.0</td>\n",
       "      <td>0.0</td>\n",
       "      <td>0.0</td>\n",
       "      <td>0.0</td>\n",
       "      <td>1.0</td>\n",
       "      <td>0.0</td>\n",
       "      <td>1.0</td>\n",
       "      <td>...</td>\n",
       "      <td>0.0</td>\n",
       "      <td>0.0</td>\n",
       "      <td>1.0</td>\n",
       "      <td>0.0</td>\n",
       "      <td>1.0</td>\n",
       "      <td>-0.213573</td>\n",
       "      <td>0.004048</td>\n",
       "      <td>-0.421086</td>\n",
       "      <td>0.274389</td>\n",
       "      <td>1</td>\n",
       "    </tr>\n",
       "    <tr>\n",
       "      <th>363</th>\n",
       "      <td>0.0</td>\n",
       "      <td>1.0</td>\n",
       "      <td>0.0</td>\n",
       "      <td>1.0</td>\n",
       "      <td>1.0</td>\n",
       "      <td>0.0</td>\n",
       "      <td>0.0</td>\n",
       "      <td>0.0</td>\n",
       "      <td>1.0</td>\n",
       "      <td>0.0</td>\n",
       "      <td>...</td>\n",
       "      <td>0.0</td>\n",
       "      <td>0.0</td>\n",
       "      <td>1.0</td>\n",
       "      <td>0.0</td>\n",
       "      <td>1.0</td>\n",
       "      <td>-0.195798</td>\n",
       "      <td>-0.286239</td>\n",
       "      <td>-0.398164</td>\n",
       "      <td>0.274389</td>\n",
       "      <td>1</td>\n",
       "    </tr>\n",
       "    <tr>\n",
       "      <th>364</th>\n",
       "      <td>0.0</td>\n",
       "      <td>1.0</td>\n",
       "      <td>1.0</td>\n",
       "      <td>0.0</td>\n",
       "      <td>1.0</td>\n",
       "      <td>0.0</td>\n",
       "      <td>0.0</td>\n",
       "      <td>0.0</td>\n",
       "      <td>1.0</td>\n",
       "      <td>0.0</td>\n",
       "      <td>...</td>\n",
       "      <td>0.0</td>\n",
       "      <td>1.0</td>\n",
       "      <td>0.0</td>\n",
       "      <td>0.0</td>\n",
       "      <td>1.0</td>\n",
       "      <td>-0.304120</td>\n",
       "      <td>0.062758</td>\n",
       "      <td>-0.272093</td>\n",
       "      <td>0.274389</td>\n",
       "      <td>1</td>\n",
       "    </tr>\n",
       "    <tr>\n",
       "      <th>365</th>\n",
       "      <td>0.0</td>\n",
       "      <td>1.0</td>\n",
       "      <td>0.0</td>\n",
       "      <td>1.0</td>\n",
       "      <td>1.0</td>\n",
       "      <td>0.0</td>\n",
       "      <td>0.0</td>\n",
       "      <td>0.0</td>\n",
       "      <td>1.0</td>\n",
       "      <td>0.0</td>\n",
       "      <td>...</td>\n",
       "      <td>1.0</td>\n",
       "      <td>0.0</td>\n",
       "      <td>0.0</td>\n",
       "      <td>0.0</td>\n",
       "      <td>1.0</td>\n",
       "      <td>-0.095349</td>\n",
       "      <td>0.171480</td>\n",
       "      <td>0.094659</td>\n",
       "      <td>0.274389</td>\n",
       "      <td>1</td>\n",
       "    </tr>\n",
       "    <tr>\n",
       "      <th>366</th>\n",
       "      <td>0.0</td>\n",
       "      <td>1.0</td>\n",
       "      <td>1.0</td>\n",
       "      <td>0.0</td>\n",
       "      <td>1.0</td>\n",
       "      <td>0.0</td>\n",
       "      <td>0.0</td>\n",
       "      <td>0.0</td>\n",
       "      <td>1.0</td>\n",
       "      <td>0.0</td>\n",
       "      <td>...</td>\n",
       "      <td>1.0</td>\n",
       "      <td>0.0</td>\n",
       "      <td>0.0</td>\n",
       "      <td>0.0</td>\n",
       "      <td>1.0</td>\n",
       "      <td>0.405703</td>\n",
       "      <td>-0.478949</td>\n",
       "      <td>-0.593001</td>\n",
       "      <td>-2.312379</td>\n",
       "      <td>1</td>\n",
       "    </tr>\n",
       "  </tbody>\n",
       "</table>\n",
       "<p>367 rows × 22 columns</p>\n",
       "</div>"
      ],
      "text/plain": [
       "       0    1    2    3    4    5    6    7    8    9  ...   12   13   14  \\\n",
       "0    0.0  1.0  0.0  1.0  1.0  0.0  0.0  0.0  1.0  0.0  ...  0.0  0.0  1.0   \n",
       "1    0.0  1.0  0.0  1.0  0.0  1.0  0.0  0.0  1.0  0.0  ...  0.0  0.0  1.0   \n",
       "2    0.0  1.0  0.0  1.0  0.0  0.0  1.0  0.0  1.0  0.0  ...  0.0  0.0  1.0   \n",
       "3    0.0  1.0  0.0  1.0  0.0  0.0  1.0  0.0  1.0  0.0  ...  0.0  0.0  1.0   \n",
       "4    0.0  1.0  1.0  0.0  1.0  0.0  0.0  0.0  0.0  1.0  ...  0.0  0.0  1.0   \n",
       "..   ...  ...  ...  ...  ...  ...  ...  ...  ...  ...  ...  ...  ...  ...   \n",
       "362  0.0  1.0  0.0  1.0  0.0  0.0  0.0  1.0  0.0  1.0  ...  0.0  0.0  1.0   \n",
       "363  0.0  1.0  0.0  1.0  1.0  0.0  0.0  0.0  1.0  0.0  ...  0.0  0.0  1.0   \n",
       "364  0.0  1.0  1.0  0.0  1.0  0.0  0.0  0.0  1.0  0.0  ...  0.0  1.0  0.0   \n",
       "365  0.0  1.0  0.0  1.0  1.0  0.0  0.0  0.0  1.0  0.0  ...  1.0  0.0  0.0   \n",
       "366  0.0  1.0  1.0  0.0  1.0  0.0  0.0  0.0  1.0  0.0  ...  1.0  0.0  0.0   \n",
       "\n",
       "      15   16        17        18        19        20  Predicted_Loan_Status  \n",
       "0    0.0  1.0 -0.009454 -0.478949 -0.455469  0.274389                      1  \n",
       "1    0.0  1.0 -0.324878 -0.071242 -0.272093  0.274389                      1  \n",
       "2    0.0  1.0 -0.095349  0.010300  0.667710  0.274389                      1  \n",
       "3    0.0  1.0 -0.412682  0.213066 -0.570079  0.274389                      1  \n",
       "4    0.0  1.0 -0.301019 -0.478949 -0.822221  0.274389                      0  \n",
       "..   ...  ...       ...       ...       ...       ...                    ...  \n",
       "362  0.0  1.0 -0.213573  0.004048 -0.421086  0.274389                      1  \n",
       "363  0.0  1.0 -0.195798 -0.286239 -0.398164  0.274389                      1  \n",
       "364  0.0  1.0 -0.304120  0.062758 -0.272093  0.274389                      1  \n",
       "365  0.0  1.0 -0.095349  0.171480  0.094659  0.274389                      1  \n",
       "366  0.0  1.0  0.405703 -0.478949 -0.593001 -2.312379                      1  \n",
       "\n",
       "[367 rows x 22 columns]"
      ]
     },
     "execution_count": 49,
     "metadata": {},
     "output_type": "execute_result"
    }
   ],
   "source": [
    "# test data containing predicted loan status \n",
    "df_pred = test_data\n",
    "df_pred['Predicted_Loan_Status'] = Tr_predictions\n",
    "df_pred"
   ]
  },
  {
   "cell_type": "code",
   "execution_count": null,
   "id": "98889748",
   "metadata": {},
   "outputs": [],
   "source": []
  }
 ],
 "metadata": {
  "kernelspec": {
   "display_name": "Python 3 (ipykernel)",
   "language": "python",
   "name": "python3"
  },
  "language_info": {
   "codemirror_mode": {
    "name": "ipython",
    "version": 3
   },
   "file_extension": ".py",
   "mimetype": "text/x-python",
   "name": "python",
   "nbconvert_exporter": "python",
   "pygments_lexer": "ipython3",
   "version": "3.11.3"
  }
 },
 "nbformat": 4,
 "nbformat_minor": 5
}
